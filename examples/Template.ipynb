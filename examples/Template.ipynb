{
 "cells": [
  {
   "cell_type": "code",
   "execution_count": 1,
   "id": "d9c5755b",
   "metadata": {},
   "outputs": [
    {
     "data": {
      "application/javascript": [
       "\n",
       "            setTimeout(function() {\n",
       "                var nbb_cell_id = 1;\n",
       "                var nbb_unformatted_code = \"%load_ext nb_black\";\n",
       "                var nbb_formatted_code = \"%load_ext nb_black\";\n",
       "                var nbb_cells = Jupyter.notebook.get_cells();\n",
       "                for (var i = 0; i < nbb_cells.length; ++i) {\n",
       "                    if (nbb_cells[i].input_prompt_number == nbb_cell_id) {\n",
       "                        if (nbb_cells[i].get_text() == nbb_unformatted_code) {\n",
       "                             nbb_cells[i].set_text(nbb_formatted_code);\n",
       "                        }\n",
       "                        break;\n",
       "                    }\n",
       "                }\n",
       "            }, 500);\n",
       "            "
      ],
      "text/plain": [
       "<IPython.core.display.Javascript object>"
      ]
     },
     "metadata": {},
     "output_type": "display_data"
    }
   ],
   "source": [
    "%load_ext nb_black"
   ]
  },
  {
   "cell_type": "markdown",
   "id": "7b0bfa54",
   "metadata": {},
   "source": [
    "# First, some imports"
   ]
  },
  {
   "cell_type": "code",
   "execution_count": 2,
   "id": "24a933f9",
   "metadata": {},
   "outputs": [
    {
     "data": {
      "application/javascript": [
       "\n",
       "            setTimeout(function() {\n",
       "                var nbb_cell_id = 2;\n",
       "                var nbb_unformatted_code = \"from datetime import datetime\\nfrom typing import Optional\\nimport openai\\n\\n# There are a variety of models available in Keymaker.\\n# Some are aliased such as gpt4 and chatgpt\\nfrom keymaker.models import chatgpt, LlamaCpp  # , gpt4, OpenAICompletion, OpenAIChat\\n\\n# There are a variety of constraints as well.\\n# These are just a few of the most common.\\nfrom keymaker.constraints import RegexConstraint, OptionsConstraint, StopsConstraint\\n\\n# Finally, the core components of Keymaker\\nfrom keymaker import Prompt, Completion, CompletionConfig\";\n",
       "                var nbb_formatted_code = \"from datetime import datetime\\nfrom typing import Optional\\nimport openai\\n\\n# There are a variety of models available in Keymaker.\\n# Some are aliased such as gpt4 and chatgpt\\nfrom keymaker.models import chatgpt, LlamaCpp  # , gpt4, OpenAICompletion, OpenAIChat\\n\\n# There are a variety of constraints as well.\\n# These are just a few of the most common.\\nfrom keymaker.constraints import RegexConstraint, OptionsConstraint, StopsConstraint\\n\\n# Finally, the core components of Keymaker\\nfrom keymaker import Prompt, Completion, CompletionConfig\";\n",
       "                var nbb_cells = Jupyter.notebook.get_cells();\n",
       "                for (var i = 0; i < nbb_cells.length; ++i) {\n",
       "                    if (nbb_cells[i].input_prompt_number == nbb_cell_id) {\n",
       "                        if (nbb_cells[i].get_text() == nbb_unformatted_code) {\n",
       "                             nbb_cells[i].set_text(nbb_formatted_code);\n",
       "                        }\n",
       "                        break;\n",
       "                    }\n",
       "                }\n",
       "            }, 500);\n",
       "            "
      ],
      "text/plain": [
       "<IPython.core.display.Javascript object>"
      ]
     },
     "metadata": {},
     "output_type": "display_data"
    }
   ],
   "source": [
    "from datetime import datetime\n",
    "from typing import Optional\n",
    "import openai\n",
    "\n",
    "# There are a variety of models available in Keymaker.\n",
    "# Some are aliased such as gpt4 and chatgpt\n",
    "from keymaker.models import chatgpt, LlamaCpp  # , gpt4, OpenAICompletion, OpenAIChat\n",
    "\n",
    "# There are a variety of constraints as well.\n",
    "# These are just a few of the most common.\n",
    "from keymaker.constraints import RegexConstraint, OptionsConstraint, StopsConstraint\n",
    "\n",
    "# Finally, the core components of Keymaker\n",
    "from keymaker import Prompt, Completion, CompletionConfig"
   ]
  },
  {
   "cell_type": "markdown",
   "id": "4b341177",
   "metadata": {},
   "source": [
    "# Part of this demo showcases Keymaker's ability to leverage OpenAI models.\n",
    "You can modify this as needed including swapping the model, but if you follow this example directly, load an api key however you see fit."
   ]
  },
  {
   "cell_type": "code",
   "execution_count": 3,
   "id": "262c7f13",
   "metadata": {},
   "outputs": [
    {
     "data": {
      "application/javascript": [
       "\n",
       "            setTimeout(function() {\n",
       "                var nbb_cell_id = 3;\n",
       "                var nbb_unformatted_code = \"import json\\n\\nwith open(\\\"./config.json\\\") as f:\\n    openai.api_key = json.loads(f.read())[\\\"OPENAI_API_KEY\\\"]\";\n",
       "                var nbb_formatted_code = \"import json\\n\\nwith open(\\\"./config.json\\\") as f:\\n    openai.api_key = json.loads(f.read())[\\\"OPENAI_API_KEY\\\"]\";\n",
       "                var nbb_cells = Jupyter.notebook.get_cells();\n",
       "                for (var i = 0; i < nbb_cells.length; ++i) {\n",
       "                    if (nbb_cells[i].input_prompt_number == nbb_cell_id) {\n",
       "                        if (nbb_cells[i].get_text() == nbb_unformatted_code) {\n",
       "                             nbb_cells[i].set_text(nbb_formatted_code);\n",
       "                        }\n",
       "                        break;\n",
       "                    }\n",
       "                }\n",
       "            }, 500);\n",
       "            "
      ],
      "text/plain": [
       "<IPython.core.display.Javascript object>"
      ]
     },
     "metadata": {},
     "output_type": "display_data"
    }
   ],
   "source": [
    "import json\n",
    "\n",
    "with open(\"./config.json\") as f:\n",
    "    openai.api_key = json.loads(f.read())[\"OPENAI_API_KEY\"]"
   ]
  },
  {
   "cell_type": "markdown",
   "id": "facd9d60",
   "metadata": {},
   "source": [
    "# For example's sake, we can just create two streams that do some sort of printing\n",
    "In reality, this could feed SSE or a websocket. Of course, streaming is optional as most everything in Keymaker is."
   ]
  },
  {
   "cell_type": "code",
   "execution_count": 4,
   "id": "8f071761",
   "metadata": {},
   "outputs": [
    {
     "data": {
      "application/javascript": [
       "\n",
       "            setTimeout(function() {\n",
       "                var nbb_cell_id = 4;\n",
       "                var nbb_unformatted_code = \"async def print_stream(completion: Optional[Completion]):\\n    if completion:\\n        print(repr(completion))\\n\\n\\nasync def yo_stream(completion: Optional[Completion]):\\n    if completion:\\n        print(\\\"YO \\\" + completion)\";\n",
       "                var nbb_formatted_code = \"async def print_stream(completion: Optional[Completion]):\\n    if completion:\\n        print(repr(completion))\\n\\n\\nasync def yo_stream(completion: Optional[Completion]):\\n    if completion:\\n        print(\\\"YO \\\" + completion)\";\n",
       "                var nbb_cells = Jupyter.notebook.get_cells();\n",
       "                for (var i = 0; i < nbb_cells.length; ++i) {\n",
       "                    if (nbb_cells[i].input_prompt_number == nbb_cell_id) {\n",
       "                        if (nbb_cells[i].get_text() == nbb_unformatted_code) {\n",
       "                             nbb_cells[i].set_text(nbb_formatted_code);\n",
       "                        }\n",
       "                        break;\n",
       "                    }\n",
       "                }\n",
       "            }, 500);\n",
       "            "
      ],
      "text/plain": [
       "<IPython.core.display.Javascript object>"
      ]
     },
     "metadata": {},
     "output_type": "display_data"
    }
   ],
   "source": [
    "async def print_stream(completion: Optional[Completion]):\n",
    "    if completion:\n",
    "        print(repr(completion))\n",
    "\n",
    "\n",
    "async def yo_stream(completion: Optional[Completion]):\n",
    "    if completion:\n",
    "        print(\"YO \" + completion)"
   ]
  },
  {
   "cell_type": "markdown",
   "id": "02d9c3b8",
   "metadata": {},
   "source": [
    "# Let's establish the models upfront for the example\n",
    "We will use the alias for ChatGPT. There are parameters we can set for Models, but we will just use the defaults here."
   ]
  },
  {
   "cell_type": "code",
   "execution_count": 5,
   "id": "004312a4",
   "metadata": {},
   "outputs": [
    {
     "name": "stderr",
     "output_type": "stream",
     "text": [
      "llama.cpp: loading model from /Users/nick/Downloads/llama-2-7b-chat.ggmlv3.q3_K_S.bin\n",
      "llama_model_load_internal: format     = ggjt v3 (latest)\n",
      "llama_model_load_internal: n_vocab    = 32000\n",
      "llama_model_load_internal: n_ctx      = 512\n",
      "llama_model_load_internal: n_embd     = 4096\n",
      "llama_model_load_internal: n_mult     = 256\n",
      "llama_model_load_internal: n_head     = 32\n",
      "llama_model_load_internal: n_layer    = 32\n",
      "llama_model_load_internal: n_rot      = 128\n",
      "llama_model_load_internal: ftype      = 11 (mostly Q3_K - Small)\n",
      "llama_model_load_internal: n_ff       = 11008\n",
      "llama_model_load_internal: model size = 7B\n",
      "llama_model_load_internal: ggml ctx size =    0.08 MB\n",
      "llama_model_load_internal: mem required  = 4603.09 MB (+ 1026.00 MB per state)\n",
      "llama_new_context_with_model: kv self size  =  256.00 MB\n"
     ]
    },
    {
     "data": {
      "application/javascript": [
       "\n",
       "            setTimeout(function() {\n",
       "                var nbb_cell_id = 5;\n",
       "                var nbb_unformatted_code = \"chat_model = chatgpt()\\n\\nllama_model = LlamaCpp(\\n    model_path=\\\"/Users/nick/Downloads/llama-2-7b-chat.ggmlv3.q3_K_S.bin\\\",\\n    llama_kwargs={\\n        \\\"verbose\\\": False\\n    },  # we don't care about all the timing infor llamacpp will dump\\n)\";\n",
       "                var nbb_formatted_code = \"chat_model = chatgpt()\\n\\nllama_model = LlamaCpp(\\n    model_path=\\\"/Users/nick/Downloads/llama-2-7b-chat.ggmlv3.q3_K_S.bin\\\",\\n    llama_kwargs={\\n        \\\"verbose\\\": False\\n    },  # we don't care about all the timing infor llamacpp will dump\\n)\";\n",
       "                var nbb_cells = Jupyter.notebook.get_cells();\n",
       "                for (var i = 0; i < nbb_cells.length; ++i) {\n",
       "                    if (nbb_cells[i].input_prompt_number == nbb_cell_id) {\n",
       "                        if (nbb_cells[i].get_text() == nbb_unformatted_code) {\n",
       "                             nbb_cells[i].set_text(nbb_formatted_code);\n",
       "                        }\n",
       "                        break;\n",
       "                    }\n",
       "                }\n",
       "            }, 500);\n",
       "            "
      ],
      "text/plain": [
       "<IPython.core.display.Javascript object>"
      ]
     },
     "metadata": {},
     "output_type": "display_data"
    }
   ],
   "source": [
    "chat_model = chatgpt()\n",
    "\n",
    "llama_model = LlamaCpp(\n",
    "    model_path=\"/Users/nick/Downloads/llama-2-7b-chat.ggmlv3.q3_K_S.bin\",\n",
    "    llama_kwargs={\n",
    "        \"verbose\": False\n",
    "    },  # we don't care about all the timing infor llamacpp will dump\n",
    ")"
   ]
  },
  {
   "cell_type": "markdown",
   "id": "c01763c8",
   "metadata": {},
   "source": [
    "# These are some fun things we can just plug into our prompt at any time"
   ]
  },
  {
   "cell_type": "code",
   "execution_count": 6,
   "id": "571d1bee",
   "metadata": {},
   "outputs": [
    {
     "data": {
      "application/javascript": [
       "\n",
       "            setTimeout(function() {\n",
       "                var nbb_cell_id = 6;\n",
       "                var nbb_unformatted_code = \"# A friendly use message stored in a variable\\nuser_message = \\\"Hi, my name is Nick.\\\"\\n\\n# This shows how you can do anything you ever would with a `map_fn` function you intend to use with Keymaker\\nmy_math_answer = None\\n\\n\\n# if the model does not give the answer as 15, we will just override it!\\ndef store_my_math(answer):\\n    global my_math_answer\\n    my_math_answer = int(answer)\\n    if my_math_answer != 15:\\n        return \\\"I'm sorry, but I am very poor at math.\\\"\\n    return 15\\n\\n\\n# Again, we can do anything with a `map_fn`\\ndef my_log_function(some_completion):\\n    import logging\\n\\n    # Set up logging configuration\\n    logging.basicConfig(filename=\\\"my_log_file.log\\\", level=logging.INFO)\\n\\n    # Log the completion info\\n    logging.info(f\\\"Some completion: {some_completion}\\\")\\n\\n    return some_completion\";\n",
       "                var nbb_formatted_code = \"# A friendly use message stored in a variable\\nuser_message = \\\"Hi, my name is Nick.\\\"\\n\\n# This shows how you can do anything you ever would with a `map_fn` function you intend to use with Keymaker\\nmy_math_answer = None\\n\\n\\n# if the model does not give the answer as 15, we will just override it!\\ndef store_my_math(answer):\\n    global my_math_answer\\n    my_math_answer = int(answer)\\n    if my_math_answer != 15:\\n        return \\\"I'm sorry, but I am very poor at math.\\\"\\n    return 15\\n\\n\\n# Again, we can do anything with a `map_fn`\\ndef my_log_function(some_completion):\\n    import logging\\n\\n    # Set up logging configuration\\n    logging.basicConfig(filename=\\\"my_log_file.log\\\", level=logging.INFO)\\n\\n    # Log the completion info\\n    logging.info(f\\\"Some completion: {some_completion}\\\")\\n\\n    return some_completion\";\n",
       "                var nbb_cells = Jupyter.notebook.get_cells();\n",
       "                for (var i = 0; i < nbb_cells.length; ++i) {\n",
       "                    if (nbb_cells[i].input_prompt_number == nbb_cell_id) {\n",
       "                        if (nbb_cells[i].get_text() == nbb_unformatted_code) {\n",
       "                             nbb_cells[i].set_text(nbb_formatted_code);\n",
       "                        }\n",
       "                        break;\n",
       "                    }\n",
       "                }\n",
       "            }, 500);\n",
       "            "
      ],
      "text/plain": [
       "<IPython.core.display.Javascript object>"
      ]
     },
     "metadata": {},
     "output_type": "display_data"
    }
   ],
   "source": [
    "# A friendly use message stored in a variable\n",
    "user_message = \"Hi, my name is Nick.\"\n",
    "\n",
    "# This shows how you can do anything you ever would with a `map_fn` function you intend to use with Keymaker\n",
    "my_math_answer = None\n",
    "\n",
    "\n",
    "# if the model does not give the answer as 15, we will just override it!\n",
    "def store_my_math(answer):\n",
    "    global my_math_answer\n",
    "    my_math_answer = int(answer)\n",
    "    if my_math_answer != 15:\n",
    "        return \"I'm sorry, but I am very poor at math.\"\n",
    "    return 15\n",
    "\n",
    "\n",
    "# Again, we can do anything with a `map_fn`\n",
    "def my_log_function(some_completion):\n",
    "    import logging\n",
    "\n",
    "    # Set up logging configuration\n",
    "    logging.basicConfig(filename=\"my_log_file.log\", level=logging.INFO)\n",
    "\n",
    "    # Log the completion info\n",
    "    logging.info(f\"Some completion: {some_completion}\")\n",
    "\n",
    "    return some_completion"
   ]
  },
  {
   "cell_type": "code",
   "execution_count": 7,
   "id": "f64567ee",
   "metadata": {},
   "outputs": [
    {
     "data": {
      "application/javascript": [
       "\n",
       "            setTimeout(function() {\n",
       "                var nbb_cell_id = 7;\n",
       "                var nbb_unformatted_code = \"# These are the values you can specify for things related to generating completions\\n# e.g. Prompt defaults and CompletionConfig parameters:\\n#\\n# The model to use for completion\\n#     model: Optional[Model] = None\\n#\\n# An optional constraint to restrict model output\\n#     constraint: Optional[Constraint] = None\\n#\\n# An optional name to label the completion in the prompt\\n#     name: Optional[str] = None\\n#\\n# The maximum number of tokens that can be generated in the completion\\n#     max_tokens: Optional[int] = None\\n#\\n# Any decoding parameters e.g. temperature, top_p, strategy (Greedy, Sample). Defaults to a greedy decoder with the OpenAI default temp and top_p\\n#     decoder: Optional[Decoder] = None\\n#\\n# An async function that completion chunks (tokens) will be passed to as generated. Once done, a None will be sent\\n#     stream: Optional[Callable[[Optional['Completion']], Awaitable[Any]]] = None\\n#\\n# A function to run on a completion once it is completed. The output must be castable to a string and will be added to the prompt in place of the completion given.\\n#     map_fn: Callable[[Completion], Stringable] = noop\\n#\\n# How long to wait for model response before giving up\\n#     timeout: float = 10.0\\n#\\n# Whether or not to truncate the length of the prompt prior to generation to avoid overflow and potential error of the model\\n#     truncate: bool = False\\n#\\n# Whether to eagerly generate tokens and then test whether they abide by the constrain.\\n# This depends on parameters set at the model level such as `sample_chunk_size` on OpenAIChat models.\\n# None is 'auto' and will allow Keymaker to decide if this is necessary on its own\\n#     try_first: Optional[bool] = None\";\n",
       "                var nbb_formatted_code = \"# These are the values you can specify for things related to generating completions\\n# e.g. Prompt defaults and CompletionConfig parameters:\\n#\\n# The model to use for completion\\n#     model: Optional[Model] = None\\n#\\n# An optional constraint to restrict model output\\n#     constraint: Optional[Constraint] = None\\n#\\n# An optional name to label the completion in the prompt\\n#     name: Optional[str] = None\\n#\\n# The maximum number of tokens that can be generated in the completion\\n#     max_tokens: Optional[int] = None\\n#\\n# Any decoding parameters e.g. temperature, top_p, strategy (Greedy, Sample). Defaults to a greedy decoder with the OpenAI default temp and top_p\\n#     decoder: Optional[Decoder] = None\\n#\\n# An async function that completion chunks (tokens) will be passed to as generated. Once done, a None will be sent\\n#     stream: Optional[Callable[[Optional['Completion']], Awaitable[Any]]] = None\\n#\\n# A function to run on a completion once it is completed. The output must be castable to a string and will be added to the prompt in place of the completion given.\\n#     map_fn: Callable[[Completion], Stringable] = noop\\n#\\n# How long to wait for model response before giving up\\n#     timeout: float = 10.0\\n#\\n# Whether or not to truncate the length of the prompt prior to generation to avoid overflow and potential error of the model\\n#     truncate: bool = False\\n#\\n# Whether to eagerly generate tokens and then test whether they abide by the constrain.\\n# This depends on parameters set at the model level such as `sample_chunk_size` on OpenAIChat models.\\n# None is 'auto' and will allow Keymaker to decide if this is necessary on its own\\n#     try_first: Optional[bool] = None\";\n",
       "                var nbb_cells = Jupyter.notebook.get_cells();\n",
       "                for (var i = 0; i < nbb_cells.length; ++i) {\n",
       "                    if (nbb_cells[i].input_prompt_number == nbb_cell_id) {\n",
       "                        if (nbb_cells[i].get_text() == nbb_unformatted_code) {\n",
       "                             nbb_cells[i].set_text(nbb_formatted_code);\n",
       "                        }\n",
       "                        break;\n",
       "                    }\n",
       "                }\n",
       "            }, 500);\n",
       "            "
      ],
      "text/plain": [
       "<IPython.core.display.Javascript object>"
      ]
     },
     "metadata": {},
     "output_type": "display_data"
    }
   ],
   "source": [
    "# These are the values you can specify for things related to generating completions\n",
    "# e.g. Prompt defaults and CompletionConfig parameters:\n",
    "#\n",
    "# The model to use for completion\n",
    "#     model: Optional[Model] = None\n",
    "#\n",
    "# An optional constraint to restrict model output\n",
    "#     constraint: Optional[Constraint] = None\n",
    "#\n",
    "# An optional name to label the completion in the prompt\n",
    "#     name: Optional[str] = None\n",
    "#\n",
    "# The maximum number of tokens that can be generated in the completion\n",
    "#     max_tokens: Optional[int] = None\n",
    "#\n",
    "# Any decoding parameters e.g. temperature, top_p, strategy (Greedy, Sample). Defaults to a greedy decoder with the OpenAI default temp and top_p\n",
    "#     decoder: Optional[Decoder] = None\n",
    "#\n",
    "# An async function that completion chunks (tokens) will be passed to as generated. Once done, a None will be sent\n",
    "#     stream: Optional[Callable[[Optional['Completion']], Awaitable[Any]]] = None\n",
    "#\n",
    "# A function to run on a completion once it is completed. The output must be castable to a string and will be added to the prompt in place of the completion given.\n",
    "#     map_fn: Callable[[Completion], Stringable] = noop\n",
    "#\n",
    "# How long to wait for model response before giving up\n",
    "#     timeout: float = 10.0\n",
    "#\n",
    "# Whether or not to truncate the length of the prompt prior to generation to avoid overflow and potential error of the model\n",
    "#     truncate: bool = False\n",
    "#\n",
    "# Whether to eagerly generate tokens and then test whether they abide by the constrain.\n",
    "# This depends on parameters set at the model level such as `sample_chunk_size` on OpenAIChat models.\n",
    "# None is 'auto' and will allow Keymaker to decide if this is necessary on its own\n",
    "#     try_first: Optional[bool] = None"
   ]
  },
  {
   "cell_type": "markdown",
   "id": "6ced6a55",
   "metadata": {},
   "source": [
    "# Here, we create a prompt with format parameters as you would expect in regular python strings.\n",
    "`{}` is, as you would expect, simply in order of the args passed to `.format`\n",
    "similarly, `{name}` would be a kwarg  to `.format(name=...)`"
   ]
  },
  {
   "cell_type": "code",
   "execution_count": 8,
   "id": "567bf87f",
   "metadata": {},
   "outputs": [
    {
     "data": {
      "application/javascript": [
       "\n",
       "            setTimeout(function() {\n",
       "                var nbb_cell_id = 8;\n",
       "                var nbb_unformatted_code = \"prompt = Prompt(\\n    \\\"\\\"\\\"Time: {time}\\nUser: {user_msg}\\nAssistant: Hello, {}{punctuation}\\nUser: Can you write me a poem about a superhero named pandaman being a friend to {}?\\nAssistant:{poem}\\nUser: What is 10+5?\\nAssistant: The answer is 10+5={math}\\n\\nThe final answer is {fin}!\\n\\nUser: Countdown from 5 to 0.\\nAssistant: 5, 4, {countdown}\\n\\n\\\"\\\"\\\",\\n    # Now the default completion parameters. See above for all the options\\n    # These are all optional, but at least a model would need to be specified to any given request for a completion by an LLM\\n    chat_model,  # default model when not otherwise specified\\n    stream=print_stream,  # default stream when not otherwise specified\\n    max_tokens=25,  # the default number of max tokens\\n    map_fn=my_log_function,  # default map_fn. if a map_fn is not specified for specific completions, this will run on the completion\\n)\";\n",
       "                var nbb_formatted_code = \"prompt = Prompt(\\n    \\\"\\\"\\\"Time: {time}\\nUser: {user_msg}\\nAssistant: Hello, {}{punctuation}\\nUser: Can you write me a poem about a superhero named pandaman being a friend to {}?\\nAssistant:{poem}\\nUser: What is 10+5?\\nAssistant: The answer is 10+5={math}\\n\\nThe final answer is {fin}!\\n\\nUser: Countdown from 5 to 0.\\nAssistant: 5, 4, {countdown}\\n\\n\\\"\\\"\\\",\\n    # Now the default completion parameters. See above for all the options\\n    # These are all optional, but at least a model would need to be specified to any given request for a completion by an LLM\\n    chat_model,  # default model when not otherwise specified\\n    stream=print_stream,  # default stream when not otherwise specified\\n    max_tokens=25,  # the default number of max tokens\\n    map_fn=my_log_function,  # default map_fn. if a map_fn is not specified for specific completions, this will run on the completion\\n)\";\n",
       "                var nbb_cells = Jupyter.notebook.get_cells();\n",
       "                for (var i = 0; i < nbb_cells.length; ++i) {\n",
       "                    if (nbb_cells[i].input_prompt_number == nbb_cell_id) {\n",
       "                        if (nbb_cells[i].get_text() == nbb_unformatted_code) {\n",
       "                             nbb_cells[i].set_text(nbb_formatted_code);\n",
       "                        }\n",
       "                        break;\n",
       "                    }\n",
       "                }\n",
       "            }, 500);\n",
       "            "
      ],
      "text/plain": [
       "<IPython.core.display.Javascript object>"
      ]
     },
     "metadata": {},
     "output_type": "display_data"
    }
   ],
   "source": [
    "prompt = Prompt(\n",
    "    \"\"\"Time: {time}\n",
    "User: {user_msg}\n",
    "Assistant: Hello, {}{punctuation}\n",
    "User: Can you write me a poem about a superhero named pandaman being a friend to {}?\n",
    "Assistant:{poem}\n",
    "User: What is 10+5?\n",
    "Assistant: The answer is 10+5={math}\n",
    "\n",
    "The final answer is {fin}!\n",
    "\n",
    "User: Countdown from 5 to 0.\n",
    "Assistant: 5, 4, {countdown}\n",
    "\n",
    "\"\"\",\n",
    "    # Now the default completion parameters. See above for all the options\n",
    "    # These are all optional, but at least a model would need to be specified to any given request for a completion by an LLM\n",
    "    chat_model,  # default model when not otherwise specified\n",
    "    stream=print_stream,  # default stream when not otherwise specified\n",
    "    max_tokens=25,  # the default number of max tokens\n",
    "    map_fn=my_log_function,  # default map_fn. if a map_fn is not specified for specific completions, this will run on the completion\n",
    ")"
   ]
  },
  {
   "cell_type": "markdown",
   "id": "7feb880d",
   "metadata": {},
   "source": [
    "# Now, we generate some completions.\n",
    "Here are the different types of arguments that can be passed to the .format() method on a prompt object:\n",
    "\n",
    "- Stringable: Any string or object that can be converted to a string, like str, int, etc. This just formats the prompt with that static string.\n",
    "\n",
    "- Callable[[Prompt], Union[Stringable, CompletionConfig]]: A callable that takes the Prompt as an argument and returns either a Stringable or CompletionConfig. This allows dynamically formatting the prompt based on the state of the Prompt.\n",
    "\n",
    "- Callable[[Prompt], Iterable[Union[Stringable, CompletionConfig]]]: A callable that takes the Prompt and returns an iterable of Stringable or CompletionConfig objects. This allows dynamically formatting the prompt with multiple components based on the state of the Prompt.\n",
    "\n",
    "TLDR:\n",
    "\n",
    "- Stringable: Static prompt string\n",
    "- Callable returning Stringable or CompletionConfig: Dynamic single component prompt\n",
    "- Callable returning iterable of Stringable or CompletionConfig: Dynamic multi-component prompt\n",
    "\n",
    "The Callable options allow the prompt to be customized dynamically based on the context. The CompletionConfig return allows configuring the completions directly in the prompt formatter."
   ]
  },
  {
   "cell_type": "code",
   "execution_count": 9,
   "id": "b7b29b1f",
   "metadata": {},
   "outputs": [
    {
     "data": {
      "application/javascript": [
       "\n",
       "            setTimeout(function() {\n",
       "                var nbb_cell_id = 9;\n",
       "                var nbb_unformatted_code = \"# First, we make a function that we will use to generate multiple completions in part of our prompt\\ndef countdown(prompt):\\n    while True:\\n        count = prompt.completions[\\\"countdown\\\"]\\n        count = count[-1] if isinstance(count, list) else count\\n        if count is None or int(count.strip(\\\", \\\")) > 0:\\n            yield CompletionConfig(\\n                llama_model,\\n                constraint=RegexConstraint(\\\"[0-9]\\\"),\\n                map_fn=lambda s: f\\\"{s}, \\\",\\n            )\\n        else:\\n            break\";\n",
       "                var nbb_formatted_code = \"# First, we make a function that we will use to generate multiple completions in part of our prompt\\ndef countdown(prompt):\\n    while True:\\n        count = prompt.completions[\\\"countdown\\\"]\\n        count = count[-1] if isinstance(count, list) else count\\n        if count is None or int(count.strip(\\\", \\\")) > 0:\\n            yield CompletionConfig(\\n                llama_model,\\n                constraint=RegexConstraint(\\\"[0-9]\\\"),\\n                map_fn=lambda s: f\\\"{s}, \\\",\\n            )\\n        else:\\n            break\";\n",
       "                var nbb_cells = Jupyter.notebook.get_cells();\n",
       "                for (var i = 0; i < nbb_cells.length; ++i) {\n",
       "                    if (nbb_cells[i].input_prompt_number == nbb_cell_id) {\n",
       "                        if (nbb_cells[i].get_text() == nbb_unformatted_code) {\n",
       "                             nbb_cells[i].set_text(nbb_formatted_code);\n",
       "                        }\n",
       "                        break;\n",
       "                    }\n",
       "                }\n",
       "            }, 500);\n",
       "            "
      ],
      "text/plain": [
       "<IPython.core.display.Javascript object>"
      ]
     },
     "metadata": {},
     "output_type": "display_data"
    }
   ],
   "source": [
    "# First, we make a function that we will use to generate multiple completions in part of our prompt\n",
    "def countdown(prompt):\n",
    "    while True:\n",
    "        count = prompt.completions[\"countdown\"]\n",
    "        count = count[-1] if isinstance(count, list) else count\n",
    "        if count is None or int(count.strip(\", \")) > 0:\n",
    "            yield CompletionConfig(\n",
    "                llama_model,\n",
    "                constraint=RegexConstraint(\"[0-9]\"),\n",
    "                map_fn=lambda s: f\"{s}, \",\n",
    "            )\n",
    "        else:\n",
    "            break"
   ]
  },
  {
   "cell_type": "code",
   "execution_count": 10,
   "id": "9d034bf2",
   "metadata": {},
   "outputs": [
    {
     "name": "stdout",
     "output_type": "stream",
     "text": [
      "Completion(text='Time: ', value=`Time: `, start=0, stop=6, name=None, chunk=False, score=None)\n",
      "Completion(text='2023-07-23 19:33:01', value=`2023-07-23 19:33:01`, start=6, stop=25, name=None, chunk=False, score=None)\n",
      "Completion(text='\n",
      "User: ', value=`\n",
      "User: `, start=25, stop=32, name=None, chunk=False, score=None)\n",
      "Completion(text='Hi, my name is Nick.', value=`Hi, my name is Nick.`, start=32, stop=52, name=None, chunk=False, score=None)\n",
      "Completion(text='\n",
      "Assistant: Hello, ', value=`\n",
      "Assistant: Hello, `, start=52, stop=71, name=None, chunk=False, score=None)\n",
      "YO Nick\n",
      "Completion(text='!', value=`!`, start=75, stop=76, name=None, chunk=False, score=None)\n",
      "Completion(text='\n",
      "User: Can you write me a poem about a superhero named pandaman being a friend to ', value=`\n",
      "User: Can you write me a poem about a superhero named pandaman being a friend to `, start=76, stop=158, name=None, chunk=False, score=None)\n",
      "Completion(text='Nick', value=`Nick`, start=158, stop=162, name=None, chunk=False, score=None)\n",
      "Completion(text='?\n",
      "Assistant:', value=`?\n",
      "Assistant:`, start=162, stop=174, name=None, chunk=False, score=None)\n",
      "Completion(text=' Of', value=` Of`, start=177, stop=180, name=poem, chunk=True, score=0.9951801089838245)\n",
      "Completion(text=' course', value=` course`, start=184, stop=191, name=poem, chunk=True, score=0.9998210072143591)\n",
      "Completion(text=',', value=`,`, start=185, stop=186, name=poem, chunk=True, score=0.7377909680098541)\n",
      "Completion(text=' I', value=` I`, start=187, stop=189, name=poem, chunk=True, score=0.6045991816182745)\n",
      "Completion(text=''', value=`'`, start=188, stop=189, name=poem, chunk=True, score=0.9949546873664318)\n",
      "Completion(text='d', value=`d`, start=189, stop=190, name=poem, chunk=True, score=0.9874616026191313)\n",
      "Completion(text=' be', value=` be`, start=192, stop=195, name=poem, chunk=True, score=0.9999387061716728)\n",
      "Completion(text=' happy', value=` happy`, start=198, stop=204, name=poem, chunk=True, score=0.9977797103220717)\n",
      "Completion(text=' to', value=` to`, start=201, stop=204, name=poem, chunk=True, score=0.9999973348798722)\n",
      "Completion(text=' help', value=` help`, start=206, stop=211, name=poem, chunk=True, score=0.8872223451709259)\n",
      "Completion(text='!', value=`!`, start=207, stop=208, name=poem, chunk=True, score=0.755787557290508)\n",
      "Completion(text=' Here', value=` Here`, start=212, stop=217, name=poem, chunk=True, score=0.9859899314533238)\n",
      "Completion(text=''', value=`'`, start=213, stop=214, name=poem, chunk=True, score=0.6938946516920461)\n",
      "Completion(text='s', value=`s`, start=214, stop=215, name=poem, chunk=True, score=0.9999978777455176)\n",
      "Completion(text=' a', value=` a`, start=216, stop=218, name=poem, chunk=True, score=0.9999889316125394)\n",
      "Completion(text=' poem', value=` poem`, start=221, stop=226, name=poem, chunk=True, score=0.9382291805390313)\n",
      "Completion(text=' for', value=` for`, start=225, stop=229, name=poem, chunk=True, score=0.5447738425934073)\n",
      "Completion(text=' you', value=` you`, start=229, stop=233, name=poem, chunk=True, score=0.9927065672139066)\n",
      "Completion(text=':', value=`:`, start=230, stop=231, name=poem, chunk=True, score=0.9999866823946811)\n",
      "Completion(text='\n",
      "', value=`\n",
      "`, start=231, stop=232, name=poem, chunk=True, score=0.999996449413097)\n",
      "Completion(text='P', value=`P`, start=232, stop=233, name=poem, chunk=True, score=0.7466114100808567)\n",
      "Completion(text='and', value=`and`, start=235, stop=238, name=poem, chunk=True, score=0.9903226623222182)\n",
      "Completion(text='aman', value=`aman`, start=239, stop=243, name=poem, chunk=True, score=0.9998764609643164)\n",
      "Completion(text=' and', value=` and`, start=243, stop=247, name=poem, chunk=True, score=0.14279191368936028)\n",
      "Completion(text=' Nick', value=` Nick`, start=248, stop=253, name=poem, chunk=True, score=0.9989250618305824)\n",
      "Completion(text=' were', value=` were`, start=253, stop=258, name=poem, chunk=True, score=0.14257215598765902)\n",
      "Completion(text=' the', value=` the`, start=257, stop=261, name=poem, chunk=True, score=0.640381378082528)\n",
      "Completion(text=' best', value=` best`, start=262, stop=267, name=poem, chunk=True, score=0.9987720954462377)\n",
      "Completion(text=' of', value=` of`, start=265, stop=268, name=poem, chunk=True, score=0.9961161475486082)\n",
      "Completion(text=' friends', value=` friends`, start=273, stop=281, name=poem, chunk=True, score=0.9889341254773729)\n",
      "Completion(text=',', value=`,`, start=274, stop=275, name=poem, chunk=True, score=0.9722262242613396)\n",
      "Completion(text='\n",
      "', value=`\n",
      "`, start=275, stop=276, name=poem, chunk=True, score=0.9994088073379859)\n",
      "Completion(text='The', value=`The`, start=278, stop=281, name=poem, chunk=True, score=0.8393014435105774)\n",
      "Completion(text='ir', value=`ir`, start=280, stop=282, name=poem, chunk=True, score=0.9998988956470111)\n",
      "Completion(text=' bond', value=` bond`, start=285, stop=290, name=poem, chunk=True, score=0.9984110942548874)\n",
      "Completion(text=' was', value=` was`, start=289, stop=293, name=poem, chunk=True, score=0.9466636510881541)\n",
      "Completion(text=' strong', value=` strong`, start=296, stop=303, name=poem, chunk=True, score=0.9496601948291206)\n",
      "Completion(text=',', value=`,`, start=297, stop=298, name=poem, chunk=True, score=0.8860435521319973)\n",
      "Completion(text=' their', value=` their`, start=303, stop=309, name=poem, chunk=True, score=0.9273244871322743)\n",
      "Completion(text=' hearts', value=` hearts`, start=310, stop=317, name=poem, chunk=True, score=0.6721960687449342)\n",
      "Completion(text=' did', value=` did`, start=314, stop=318, name=poem, chunk=True, score=0.3924474321585539)\n",
      "Completion(text=' bl', value=` bl`, start=317, stop=320, name=poem, chunk=True, score=0.7823829863537696)\n",
      "Completion(text='end', value=`end`, start=320, stop=323, name=poem, chunk=True, score=0.9999475724665219)\n",
      "Completion(text='.', value=`.`, start=321, stop=322, name=poem, chunk=True, score=0.9997281588791088)\n",
      "Completion(text='\n",
      "', value=`\n",
      "`, start=322, stop=323, name=poem, chunk=True, score=0.9999735467777686)\n",
      "Completion(text='T', value=`T`, start=323, stop=324, name=poem, chunk=True, score=0.11390285690659373)\n",
      "Completion(text='ogether', value=`ogether`, start=330, stop=337, name=poem, chunk=True, score=0.9819684211861841)\n",
      "Completion(text=' they', value=` they`, start=335, stop=340, name=poem, chunk=True, score=0.9998136839374759)\n",
      "Completion(text=' fought', value=` fought`, start=342, stop=349, name=poem, chunk=True, score=0.9348683140405505)\n",
      "Completion(text=' against', value=` against`, start=350, stop=358, name=poem, chunk=True, score=0.6533639880649614)\n",
      "Completion(text=' evil', value=` evil`, start=355, stop=360, name=poem, chunk=True, score=0.1416987289667319)\n",
      "Completion(text=''', value=`'`, start=356, stop=357, name=poem, chunk=True, score=0.857784187047855)\n",
      "Completion(text='s', value=`s`, start=357, stop=358, name=poem, chunk=True, score=0.9999455052627885)\n",
      "Completion(text=' might', value=` might`, start=363, stop=369, name=poem, chunk=True, score=0.7833043206445344)\n",
      "Completion(text=',', value=`,`, start=364, stop=365, name=poem, chunk=True, score=0.9998755105589886)\n",
      "Completion(text='\n",
      "', value=`\n",
      "`, start=365, stop=366, name=poem, chunk=True, score=0.9999971607219413)\n",
      "Completion(text='With', value=`With`, start=369, stop=373, name=poem, chunk=True, score=0.4664719778377096)\n",
      "Completion(text=' P', value=` P`, start=371, stop=373, name=poem, chunk=True, score=0.9827146031627346)\n",
      "Completion(text='and', value=`and`, start=374, stop=377, name=poem, chunk=True, score=0.9996548974470493)\n",
      "Completion(text='aman', value=`aman`, start=378, stop=382, name=poem, chunk=True, score=0.9999938489893867)\n",
      "Completion(text=''', value=`'`, start=379, stop=380, name=poem, chunk=True, score=0.9990699231163139)\n",
      "Completion(text='s', value=`s`, start=380, stop=381, name=poem, chunk=True, score=0.9999677177085531)\n",
      "Completion(text=' powers', value=` powers`, start=387, stop=394, name=poem, chunk=True, score=0.8969033158570631)\n",
      "Completion(text=',', value=`,`, start=388, stop=389, name=poem, chunk=True, score=0.8584243520640369)\n",
      "Completion(text=' Nick', value=` Nick`, start=393, stop=398, name=poem, chunk=True, score=0.8849953504488368)\n",
      "Completion(text=''', value=`'`, start=394, stop=395, name=poem, chunk=True, score=0.9267052407821172)\n",
      "Completion(text='s', value=`s`, start=395, stop=396, name=poem, chunk=True, score=0.9999443607049892)\n"
     ]
    },
    {
     "name": "stdout",
     "output_type": "stream",
     "text": [
      "Completion(text=' courage', value=` courage`, start=403, stop=411, name=poem, chunk=True, score=0.32675252111922715)\n",
      "Completion(text=' took', value=` took`, start=408, stop=413, name=poem, chunk=True, score=0.4022598911785827)\n",
      "Completion(text=' flight', value=` flight`, start=415, stop=422, name=poem, chunk=True, score=0.9992184136044505)\n",
      "Completion(text='.', value=`.`, start=416, stop=417, name=poem, chunk=True, score=0.9993117221093993)\n",
      "Completion(text='\n",
      "', value=`\n",
      "`, start=417, stop=418, name=poem, chunk=True, score=0.9999465515427974)\n",
      "Completion(text='\n",
      "', value=`\n",
      "`, start=418, stop=419, name=poem, chunk=True, score=0.5704714442875628)\n",
      "Completion(text='N', value=`N`, start=419, stop=420, name=poem, chunk=True, score=0.23802493435926347)\n",
      "Completion(text='ick', value=`ick`, start=422, stop=425, name=poem, chunk=True, score=0.9887985494485731)\n",
      "Completion(text=' was', value=` was`, start=426, stop=430, name=poem, chunk=True, score=0.5037779963562206)\n",
      "Completion(text=' just', value=` just`, start=431, stop=436, name=poem, chunk=True, score=0.399523301552386)\n",
      "Completion(text=' an', value=` an`, start=434, stop=437, name=poem, chunk=True, score=0.31816340123633735)\n",
      "Completion(text=' ordinary', value=` ordinary`, start=443, stop=452, name=poem, chunk=True, score=0.6511486680306153)\n",
      "Completion(text=' gu', value=` gu`, start=446, stop=449, name=poem, chunk=True, score=0.9226749695029914)\n",
      "Completion(text='y', value=`y`, start=447, stop=448, name=poem, chunk=True, score=0.9999998941970083)\n",
      "Completion(text=',', value=`,`, start=448, stop=449, name=poem, chunk=True, score=0.9998821742837698)\n",
      "Completion(text='\n",
      "', value=`\n",
      "`, start=449, stop=450, name=poem, chunk=True, score=0.9983661077135682)\n",
      "Completion(text='But', value=`But`, start=452, stop=455, name=poem, chunk=True, score=0.9699923422324831)\n",
      "Completion(text=' with', value=` with`, start=457, stop=462, name=poem, chunk=True, score=0.9839901341423563)\n",
      "Completion(text=' P', value=` P`, start=459, stop=461, name=poem, chunk=True, score=0.999966225251448)\n",
      "Completion(text='and', value=`and`, start=462, stop=465, name=poem, chunk=True, score=0.9998767630920008)\n",
      "Completion(text='aman', value=`aman`, start=466, stop=470, name=poem, chunk=True, score=0.9999982915839754)\n",
      "Completion(text=' by', value=` by`, start=469, stop=472, name=poem, chunk=True, score=0.4552745429183047)\n",
      "Completion(text=' his', value=` his`, start=473, stop=477, name=poem, chunk=True, score=0.9999480327982727)\n",
      "Completion(text=' side', value=` side`, start=478, stop=483, name=poem, chunk=True, score=0.9999946638424534)\n",
      "Completion(text=',', value=`,`, start=479, stop=480, name=poem, chunk=True, score=0.9999729914644563)\n",
      "Completion(text=' he', value=` he`, start=482, stop=485, name=poem, chunk=True, score=0.9996061051155277)\n",
      "Completion(text=' felt', value=` felt`, start=487, stop=492, name=poem, chunk=True, score=0.7451646009132356)\n",
      "Completion(text=' like', value=` like`, start=492, stop=497, name=poem, chunk=True, score=0.15023826403466023)\n",
      "Completion(text=' a', value=` a`, start=494, stop=496, name=poem, chunk=True, score=0.9671432205928697)\n",
      "Completion(text=' hero', value=` hero`, start=499, stop=504, name=poem, chunk=True, score=0.5492087262688574)\n",
      "Completion(text=' in', value=` in`, start=502, stop=505, name=poem, chunk=True, score=0.45885041721437475)\n",
      "Completion(text=' the', value=` the`, start=506, stop=510, name=poem, chunk=True, score=0.8073178310550833)\n",
      "Completion(text=' sky', value=` sky`, start=510, stop=514, name=poem, chunk=True, score=0.9947888759049406)\n",
      "Completion(text='.', value=`.`, start=511, stop=512, name=poem, chunk=True, score=0.9999805179321989)\n",
      "Completion(text='\n",
      "', value=`\n",
      "`, start=512, stop=513, name=poem, chunk=True, score=0.9999984157913857)\n",
      "Completion(text='P', value=`P`, start=513, stop=514, name=poem, chunk=True, score=0.6631067358345218)\n",
      "Completion(text='and', value=`and`, start=516, stop=519, name=poem, chunk=True, score=0.999595956959032)\n",
      "Completion(text='aman', value=`aman`, start=520, stop=524, name=poem, chunk=True, score=0.9999977975188681)\n",
      "Completion(text=' had', value=` had`, start=524, stop=528, name=poem, chunk=True, score=0.42125526134686053)\n",
      "Completion(text=' the', value=` the`, start=528, stop=532, name=poem, chunk=True, score=0.8301073423873649)\n",
      "Completion(text=' power', value=` power`, start=534, stop=540, name=poem, chunk=True, score=0.6052409693061785)\n",
      "Completion(text=' to', value=` to`, start=537, stop=540, name=poem, chunk=True, score=0.6617142951749942)\n",
      "Completion(text=' fly', value=` fly`, start=541, stop=545, name=poem, chunk=True, score=0.7645778494153657)\n",
      "Completion(text=',', value=`,`, start=542, stop=543, name=poem, chunk=True, score=0.9321103420040481)\n",
      "Completion(text='\n",
      "', value=`\n",
      "`, start=543, stop=544, name=poem, chunk=True, score=0.933287425379809)\n",
      "Completion(text='And', value=`And`, start=546, stop=549, name=poem, chunk=True, score=0.7130832683222672)\n",
      "Completion(text=' with', value=` with`, start=551, stop=556, name=poem, chunk=True, score=0.7794297915043824)\n",
      "Completion(text=' Nick', value=` Nick`, start=556, stop=561, name=poem, chunk=True, score=0.8539832301325043)\n",
      "Completion(text=''', value=`'`, start=557, stop=558, name=poem, chunk=True, score=0.498145915256037)\n",
      "Completion(text='s', value=`s`, start=558, stop=559, name=poem, chunk=True, score=0.999888643434173)\n",
      "Completion(text=' bra', value=` bra`, start=562, stop=566, name=poem, chunk=True, score=0.46167003741268947)\n",
      "Completion(text='very', value=`very`, start=566, stop=570, name=poem, chunk=True, score=0.9999301718603295)\n",
      "Completion(text=',', value=`,`, start=567, stop=568, name=poem, chunk=True, score=0.9983989761117613)\n",
      "Completion(text=' they', value=` they`, start=572, stop=577, name=poem, chunk=True, score=0.9961638391218043)\n",
      "Completion(text=' made', value=` made`, start=577, stop=582, name=poem, chunk=True, score=0.3397823159232351)\n",
      "Completion(text=' a', value=` a`, start=579, stop=581, name=poem, chunk=True, score=0.8385515630990015)\n",
      "Completion(text=' perfect', value=` perfect`, start=587, stop=595, name=poem, chunk=True, score=0.3910623289607784)\n",
      "Completion(text=' pair', value=` pair`, start=592, stop=597, name=poem, chunk=True, score=0.9305961655425284)\n",
      "Completion(text=' in', value=` in`, start=595, stop=598, name=poem, chunk=True, score=0.396387426064399)\n",
      "Completion(text=' the', value=` the`, start=599, stop=603, name=poem, chunk=True, score=0.9966194787181689)\n",
      "Completion(text=' sky', value=` sky`, start=603, stop=607, name=poem, chunk=True, score=0.990097662539262)\n",
      "Completion(text='.', value=`.`, start=604, stop=605, name=poem, chunk=True, score=0.9995317572425129)\n",
      "Completion(text='\n",
      "', value=`\n",
      "`, start=605, stop=606, name=poem, chunk=True, score=0.9996631094941313)\n",
      "Completion(text='They', value=`They`, start=609, stop=613, name=poem, chunk=True, score=0.24112725726935028)\n",
      "Completion(text=' so', value=` so`, start=612, stop=615, name=poem, chunk=True, score=0.9674916605945812)\n",
      "Completion(text='ared', value=`ared`, start=616, stop=620, name=poem, chunk=True, score=0.9999982814217454)\n",
      "Completion(text=' through', value=` through`, start=624, stop=632, name=poem, chunk=True, score=0.6434187112801698)\n",
      "Completion(text=' the', value=` the`, start=628, stop=632, name=poem, chunk=True, score=0.8988190541235375)\n",
      "Completion(text=' clouds', value=` clouds`, start=635, stop=642, name=poem, chunk=True, score=0.9002214368535635)\n",
      "Completion(text=',', value=`,`, start=636, stop=637, name=poem, chunk=True, score=0.9593963177330834)\n",
      "Completion(text=' their', value=` their`, start=642, stop=648, name=poem, chunk=True, score=0.18490600388100717)\n",
      "Completion(text=' laugh', value=` laugh`, start=648, stop=654, name=poem, chunk=True, score=0.5828721936409916)\n",
      "Completion(text='ter', value=`ter`, start=651, stop=654, name=poem, chunk=True, score=0.999895274646997)\n",
      "Completion(text=' echo', value=` echo`, start=656, stop=661, name=poem, chunk=True, score=0.5019229085171822)\n",
      "Completion(text='ing', value=`ing`, start=659, stop=662, name=poem, chunk=True, score=0.9569220643810167)\n",
      "Completion(text=' loud', value=` loud`, start=664, stop=669, name=poem, chunk=True, score=0.4664152182130228)\n",
      "Completion(text=',', value=`,`, start=665, stop=666, name=poem, chunk=True, score=0.9931985373116539)\n"
     ]
    },
    {
     "name": "stdout",
     "output_type": "stream",
     "text": [
      "Completion(text='\n",
      "', value=`\n",
      "`, start=666, stop=667, name=poem, chunk=True, score=0.9999998513833952)\n",
      "Completion(text='The', value=`The`, start=669, stop=672, name=poem, chunk=True, score=0.5104637338078662)\n",
      "Completion(text='ir', value=`ir`, start=671, stop=673, name=poem, chunk=True, score=0.9987290815392934)\n",
      "Completion(text=' friendship', value=` friendship`, start=682, stop=693, name=poem, chunk=True, score=0.9700376522141884)\n",
      "Completion(text=' was', value=` was`, start=686, stop=690, name=poem, chunk=True, score=0.7665384769434725)\n",
      "Completion(text=' pure', value=` pure`, start=691, stop=696, name=poem, chunk=True, score=0.8475315128910198)\n",
      "Completion(text=',', value=`,`, start=692, stop=693, name=poem, chunk=True, score=0.9784262753565603)\n",
      "Completion(text=' their', value=` their`, start=698, stop=704, name=poem, chunk=True, score=0.9634666376722107)\n",
      "Completion(text=' hearts', value=` hearts`, start=705, stop=712, name=poem, chunk=True, score=0.43622853368959075)\n",
      "Completion(text=' un', value=` un`, start=708, stop=711, name=poem, chunk=True, score=0.3999406704262487)\n",
      "Completion(text='bound', value=`bound`, start=713, stop=718, name=poem, chunk=True, score=0.9830993026185004)\n",
      "Completion(text='.', value=`.`, start=714, stop=715, name=poem, chunk=True, score=0.9998848612236109)\n",
      "Completion(text='\n",
      "', value=`\n",
      "`, start=715, stop=716, name=poem, chunk=True, score=0.9999340007356443)\n",
      "Completion(text='\n",
      "', value=`\n",
      "`, start=716, stop=717, name=poem, chunk=True, score=0.7988283021547012)\n",
      "Completion(text='So', value=`So`, start=718, stop=720, name=poem, chunk=True, score=0.3304605713330208)\n",
      "Completion(text=' here', value=` here`, start=723, stop=728, name=poem, chunk=True, score=0.7224287170797252)\n",
      "Completion(text=''', value=`'`, start=724, stop=725, name=poem, chunk=True, score=0.9990692140956668)\n",
      "Completion(text='s', value=`s`, start=725, stop=726, name=poem, chunk=True, score=0.9999892002333295)\n",
      "Completion(text=' to', value=` to`, start=728, stop=731, name=poem, chunk=True, score=0.9996775355941264)\n",
      "Completion(text=' P', value=` P`, start=730, stop=732, name=poem, chunk=True, score=0.9709567601278651)\n",
      "Completion(text='and', value=`and`, start=733, stop=736, name=poem, chunk=True, score=0.9999779720907265)\n",
      "Completion(text='aman', value=`aman`, start=737, stop=741, name=poem, chunk=True, score=0.9999981816038851)\n",
      "Completion(text=' and', value=` and`, start=741, stop=745, name=poem, chunk=True, score=0.999138012132306)\n",
      "Completion(text=' Nick', value=` Nick`, start=746, stop=751, name=poem, chunk=True, score=0.9999072996967382)\n",
      "Completion(text=',', value=`,`, start=747, stop=748, name=poem, chunk=True, score=0.9755831975646956)\n",
      "Completion(text='\n",
      "', value=`\n",
      "`, start=748, stop=749, name=poem, chunk=True, score=0.9993332729445719)\n",
      "Completion(text='A', value=`A`, start=749, stop=750, name=poem, chunk=True, score=0.26424461037692115)\n",
      "Completion(text=' friendship', value=` friendship`, start=760, stop=771, name=poem, chunk=True, score=0.8882087399641196)\n",
      "Completion(text=' that', value=` that`, start=765, stop=770, name=poem, chunk=True, score=0.9852064346026449)\n",
      "Completion(text=' will', value=` will`, start=770, stop=775, name=poem, chunk=True, score=0.2843047352290349)\n",
      "Completion(text=' forever', value=` forever`, start=778, stop=786, name=poem, chunk=True, score=0.5675794494238149)\n",
      "Completion(text=' stick', value=` stick`, start=784, stop=790, name=poem, chunk=True, score=0.3413421838822463)\n",
      "Completion(text='.', value=`.`, start=785, stop=786, name=poem, chunk=True, score=0.9980671931326787)\n",
      "Completion(text='\n",
      "', value=`\n",
      "`, start=786, stop=787, name=poem, chunk=True, score=0.9996756042681931)\n",
      "Completion(text='T', value=`T`, start=787, stop=788, name=poem, chunk=True, score=0.19586374726126296)\n",
      "Completion(text='ogether', value=`ogether`, start=794, stop=801, name=poem, chunk=True, score=0.5340506265352619)\n",
      "Completion(text=' they', value=` they`, start=799, stop=804, name=poem, chunk=True, score=0.9998879697746058)\n",
      "Completion(text=' saved', value=` saved`, start=805, stop=811, name=poem, chunk=True, score=0.45979027589971827)\n",
      "Completion(text=' the', value=` the`, start=809, stop=813, name=poem, chunk=True, score=0.9999882096458633)\n",
      "Completion(text=' day', value=` day`, start=813, stop=817, name=poem, chunk=True, score=0.988073735785015)\n",
      "Completion(text=',', value=`,`, start=814, stop=815, name=poem, chunk=True, score=0.9848098198752283)\n",
      "Completion(text='\n",
      "', value=`\n",
      "`, start=815, stop=816, name=poem, chunk=True, score=0.999723555394081)\n",
      "Completion(text='With', value=`With`, start=819, stop=823, name=poem, chunk=True, score=0.769490551578011)\n",
      "Completion(text=' P', value=` P`, start=821, stop=823, name=poem, chunk=True, score=0.7502420086070735)\n",
      "Completion(text='and', value=`and`, start=824, stop=827, name=poem, chunk=True, score=0.9999526947305825)\n",
      "Completion(text='aman', value=`aman`, start=828, stop=832, name=poem, chunk=True, score=0.9999947607910076)\n",
      "Completion(text=''', value=`'`, start=829, stop=830, name=poem, chunk=True, score=0.9824551932207642)\n",
      "Completion(text='s', value=`s`, start=830, stop=831, name=poem, chunk=True, score=0.9999934054250693)\n",
      "Completion(text=' powers', value=` powers`, start=837, stop=844, name=poem, chunk=True, score=0.6599762120819292)\n",
      "Completion(text=' and', value=` and`, start=841, stop=845, name=poem, chunk=True, score=0.7104920279405152)\n",
      "Completion(text=' Nick', value=` Nick`, start=846, stop=851, name=poem, chunk=True, score=0.9999978364461076)\n",
      "Completion(text=''', value=`'`, start=847, stop=848, name=poem, chunk=True, score=0.9999972676814858)\n",
      "Completion(text='s', value=`s`, start=848, stop=849, name=poem, chunk=True, score=0.999985668818611)\n",
      "Completion(text=' courage', value=` courage`, start=856, stop=864, name=poem, chunk=True, score=0.4189518393046007)\n",
      "Completion(text=',', value=`,`, start=857, stop=858, name=poem, chunk=True, score=0.8344960050658864)\n",
      "Completion(text=' they', value=` they`, start=862, stop=867, name=poem, chunk=True, score=0.8608259230143759)\n",
      "Completion(text=' found', value=` found`, start=868, stop=874, name=poem, chunk=True, score=0.3973200896769286)\n",
      "Completion(text=' a', value=` a`, start=870, stop=872, name=poem, chunk=True, score=0.909794082057275)\n",
      "Completion(text=' way', value=` way`, start=874, stop=878, name=poem, chunk=True, score=0.9246364305326803)\n",
      "Completion(text='.', value=`.`, start=875, stop=876, name=poem, chunk=True, score=0.9197483654701246)\n",
      "Completion(text='\n",
      "User: What is 10+5?\n",
      "Assistant: The answer is 10+5=', value=`\n",
      "User: What is 10+5?\n",
      "Assistant: The answer is 10+5=`, start=875, stop=926, name=None, chunk=False, score=None)\n",
      "Completion(text='1', value=`1`, start=927, stop=928, name=math, chunk=True, score=0.9999891421871064)\n",
      "Completion(text='5', value=`5`, start=928, stop=929, name=math, chunk=True, score=0.9999975803887274)\n",
      "Completion(text='\n",
      "\n",
      "The final answer is ', value=`\n",
      "\n",
      "The final answer is `, start=928, stop=950, name=None, chunk=False, score=None)\n",
      "Completion(text='1', value=`1`, start=951, stop=952, name=fin, chunk=True, score=1.0000000000981042)\n",
      "Completion(text='5', value=`5`, start=952, stop=953, name=fin, chunk=True, score=0.9999862341636548)\n",
      "Completion(text='!\n",
      "\n",
      "User: Countdown from 5 to 0.\n",
      "Assistant: 5, 4, ', value=`!\n",
      "\n",
      "User: Countdown from 5 to 0.\n",
      "Assistant: 5, 4, `, start=952, stop=1001, name=None, chunk=False, score=None)\n",
      "Completion(text='3', value=`3`, start=1002, stop=1003, name=countdown, chunk=True, score=0.999998160641246)\n",
      "Completion(text='2', value=`2`, start=1005, stop=1006, name=countdown, chunk=True, score=0.9999988864704665)\n",
      "Completion(text='1', value=`1`, start=1008, stop=1009, name=countdown, chunk=True, score=0.9999861345081884)\n",
      "Completion(text='0', value=`0`, start=1011, stop=1012, name=countdown, chunk=True, score=0.9999975762234011)\n",
      "Completion(text='\n",
      "\n",
      "', value=`\n",
      "\n",
      "`, start=1013, stop=1015, name=None, chunk=False, score=None)\n"
     ]
    },
    {
     "data": {
      "application/javascript": [
       "\n",
       "            setTimeout(function() {\n",
       "                var nbb_cell_id = 10;\n",
       "                var nbb_unformatted_code = \"filled_in = await prompt.format(\\n    # request a model completion\\n    # note the lack of a specific model so it will use our default `chat_model` i.e. chatgpt\\n    # we also specify a custom constraint of options for the first unnamed completion {}\\n    CompletionConfig(constraint=OptionsConstraint({\\\"Sam\\\", \\\"Nick\\\"}), stream=yo_stream),\\n    # for the second unnamed completion, we want the value from the first, a plain callable allows that like so\\n    lambda p: p.completions[0],\\n    # Maybe the user calling the prompt wants to dynamically swap punctuation, you could make this a variable\\n    # we'll just call it a ! for now\\n    punctuation=\\\"!\\\",\\n    # we'll point to the user message however\\n    user_msg=user_message,\\n    # and make sure the llm knows the current time\\n    time=datetime.now().strftime(\\\"%Y-%m-%d %H:%M:%S\\\"),\\n    # now, have llama write us a poem. it might be long so override our default `max_tokens`\\n    # and make sure the model stops if it tries to make a new User or Assistant marker to hallucinate the converstaion\\n    # don't include the start of the hallucination either\\n    poem=CompletionConfig(\\n        llama_model,\\n        max_tokens=250,\\n        constraint=StopsConstraint(\\\"User|Assistant\\\", include=False),\\n    ),\\n    # for some reason, let's see if it can answer a math problem and we will use our function that manipulates it and potentially injects the prompt with something else ridiculing the model\\n    math=CompletionConfig(\\n        llama_model,\\n        constraint=RegexConstraint(\\\"[0-9]+\\\", terminate_on_match=False),\\n        map_fn=store_my_math,\\n    ),\\n    #\\n    fin=lambda p: CompletionConfig(\\n        llama_model,\\n        constraint=RegexConstraint(rf\\\"{p.completions.math}|16\\\"),\\n    ),\\n    countdown=countdown,\\n)\";\n",
       "                var nbb_formatted_code = \"filled_in = await prompt.format(\\n    # request a model completion\\n    # note the lack of a specific model so it will use our default `chat_model` i.e. chatgpt\\n    # we also specify a custom constraint of options for the first unnamed completion {}\\n    CompletionConfig(constraint=OptionsConstraint({\\\"Sam\\\", \\\"Nick\\\"}), stream=yo_stream),\\n    # for the second unnamed completion, we want the value from the first, a plain callable allows that like so\\n    lambda p: p.completions[0],\\n    # Maybe the user calling the prompt wants to dynamically swap punctuation, you could make this a variable\\n    # we'll just call it a ! for now\\n    punctuation=\\\"!\\\",\\n    # we'll point to the user message however\\n    user_msg=user_message,\\n    # and make sure the llm knows the current time\\n    time=datetime.now().strftime(\\\"%Y-%m-%d %H:%M:%S\\\"),\\n    # now, have llama write us a poem. it might be long so override our default `max_tokens`\\n    # and make sure the model stops if it tries to make a new User or Assistant marker to hallucinate the converstaion\\n    # don't include the start of the hallucination either\\n    poem=CompletionConfig(\\n        llama_model,\\n        max_tokens=250,\\n        constraint=StopsConstraint(\\\"User|Assistant\\\", include=False),\\n    ),\\n    # for some reason, let's see if it can answer a math problem and we will use our function that manipulates it and potentially injects the prompt with something else ridiculing the model\\n    math=CompletionConfig(\\n        llama_model,\\n        constraint=RegexConstraint(\\\"[0-9]+\\\", terminate_on_match=False),\\n        map_fn=store_my_math,\\n    ),\\n    #\\n    fin=lambda p: CompletionConfig(\\n        llama_model,\\n        constraint=RegexConstraint(rf\\\"{p.completions.math}|16\\\"),\\n    ),\\n    countdown=countdown,\\n)\";\n",
       "                var nbb_cells = Jupyter.notebook.get_cells();\n",
       "                for (var i = 0; i < nbb_cells.length; ++i) {\n",
       "                    if (nbb_cells[i].input_prompt_number == nbb_cell_id) {\n",
       "                        if (nbb_cells[i].get_text() == nbb_unformatted_code) {\n",
       "                             nbb_cells[i].set_text(nbb_formatted_code);\n",
       "                        }\n",
       "                        break;\n",
       "                    }\n",
       "                }\n",
       "            }, 500);\n",
       "            "
      ],
      "text/plain": [
       "<IPython.core.display.Javascript object>"
      ]
     },
     "metadata": {},
     "output_type": "display_data"
    }
   ],
   "source": [
    "filled_in = await prompt.format(\n",
    "    # request a model completion\n",
    "    # note the lack of a specific model so it will use our default `chat_model` i.e. chatgpt\n",
    "    # we also specify a custom constraint of options for the first unnamed completion {}\n",
    "    CompletionConfig(constraint=OptionsConstraint({\"Sam\", \"Nick\"}), stream=yo_stream),\n",
    "    # for the second unnamed completion, we want the value from the first, a plain callable allows that like so\n",
    "    lambda p: p.completions[0],\n",
    "    # Maybe the user calling the prompt wants to dynamically swap punctuation, you could make this a variable\n",
    "    # we'll just call it a ! for now\n",
    "    punctuation=\"!\",\n",
    "    # we'll point to the user message however\n",
    "    user_msg=user_message,\n",
    "    # and make sure the llm knows the current time\n",
    "    time=datetime.now().strftime(\"%Y-%m-%d %H:%M:%S\"),\n",
    "    # now, have llama write us a poem. it might be long so override our default `max_tokens`\n",
    "    # and make sure the model stops if it tries to make a new User or Assistant marker to hallucinate the converstaion\n",
    "    # don't include the start of the hallucination either\n",
    "    poem=CompletionConfig(\n",
    "        llama_model,\n",
    "        max_tokens=250,\n",
    "        constraint=StopsConstraint(\"User|Assistant\", include=False),\n",
    "    ),\n",
    "    # for some reason, let's see if it can answer a math problem and we will use our function that manipulates it and potentially injects the prompt with something else ridiculing the model\n",
    "    math=CompletionConfig(\n",
    "        llama_model,\n",
    "        constraint=RegexConstraint(\"[0-9]+\", terminate_on_match=False),\n",
    "        map_fn=store_my_math,\n",
    "    ),\n",
    "    #\n",
    "    fin=lambda p: CompletionConfig(\n",
    "        llama_model,\n",
    "        constraint=RegexConstraint(rf\"{p.completions.math}|16\"),\n",
    "    ),\n",
    "    countdown=countdown,\n",
    ")"
   ]
  },
  {
   "cell_type": "code",
   "execution_count": 11,
   "id": "8b152263",
   "metadata": {},
   "outputs": [
    {
     "data": {
      "text/plain": [
       "Prompt('Time: 2023-07-23 19:33:01\n",
       "User: Hi, my name is Nick.\n",
       "Assistant: Hello, Nick!\n",
       "User: Can you write me a poem about a superhero named pandaman being a friend to Nick?\n",
       "Assistant: Of course, I'd be happy to help! Here's a poem for you:\n",
       "Pandaman and Nick were the best of friends,\n",
       "Their bond was strong, their hearts did blend.\n",
       "Together they fought against evil's might,\n",
       "With Pandaman's powers, Nick's courage took flight.\n",
       "\n",
       "Nick was just an ordinary guy,\n",
       "But with Pandaman by his side, he felt like a hero in the sky.\n",
       "Pandaman had the power to fly,\n",
       "And with Nick's bravery, they made a perfect pair in the sky.\n",
       "They soared through the clouds, their laughter echoing loud,\n",
       "Their friendship was pure, their hearts unbound.\n",
       "\n",
       "So here's to Pandaman and Nick,\n",
       "A friendship that will forever stick.\n",
       "Together they saved the day,\n",
       "With Pandaman's powers and Nick's courage, they found a way.\n",
       "User: What is 10+5?\n",
       "Assistant: The answer is 10+5=15\n",
       "\n",
       "The final answer is 15!\n",
       "\n",
       "User: Countdown from 5 to 0.\n",
       "Assistant: 5, 4, 3, 2, 1, 0, \n",
       "\n",
       "')"
      ]
     },
     "execution_count": 11,
     "metadata": {},
     "output_type": "execute_result"
    },
    {
     "data": {
      "application/javascript": [
       "\n",
       "            setTimeout(function() {\n",
       "                var nbb_cell_id = 11;\n",
       "                var nbb_unformatted_code = \"filled_in\";\n",
       "                var nbb_formatted_code = \"filled_in\";\n",
       "                var nbb_cells = Jupyter.notebook.get_cells();\n",
       "                for (var i = 0; i < nbb_cells.length; ++i) {\n",
       "                    if (nbb_cells[i].input_prompt_number == nbb_cell_id) {\n",
       "                        if (nbb_cells[i].get_text() == nbb_unformatted_code) {\n",
       "                             nbb_cells[i].set_text(nbb_formatted_code);\n",
       "                        }\n",
       "                        break;\n",
       "                    }\n",
       "                }\n",
       "            }, 500);\n",
       "            "
      ],
      "text/plain": [
       "<IPython.core.display.Javascript object>"
      ]
     },
     "metadata": {},
     "output_type": "display_data"
    }
   ],
   "source": [
    "filled_in"
   ]
  },
  {
   "cell_type": "code",
   "execution_count": 12,
   "id": "e9cf61a7",
   "metadata": {},
   "outputs": [
    {
     "data": {
      "text/plain": [
       "Completion(text=' Of course, I'd be happy to help! Here's a poem for you:\n",
       "Pandaman and Nick were the best of friends,\n",
       "Their bond was strong, their hearts did blend.\n",
       "Together they fought against evil's might,\n",
       "With Pandaman's powers, Nick's courage took flight.\n",
       "\n",
       "Nick was just an ordinary guy,\n",
       "But with Pandaman by his side, he felt like a hero in the sky.\n",
       "Pandaman had the power to fly,\n",
       "And with Nick's bravery, they made a perfect pair in the sky.\n",
       "They soared through the clouds, their laughter echoing loud,\n",
       "Their friendship was pure, their hearts unbound.\n",
       "\n",
       "So here's to Pandaman and Nick,\n",
       "A friendship that will forever stick.\n",
       "Together they saved the day,\n",
       "With Pandaman's powers and Nick's courage, they found a way.', value=` Of course, I'd be happy to help! Here's a poem for you:\n",
       "Pandaman and Nick were the best of friends,\n",
       "Their bond was strong, their hearts did blend.\n",
       "Together they fought against evil's might,\n",
       "With Pandaman's powers, Nick's courage took flight.\n",
       "\n",
       "Nick was just an ordinary guy,\n",
       "But with Pandaman by his side, he felt like a hero in the sky.\n",
       "Pandaman had the power to fly,\n",
       "And with Nick's bravery, they made a perfect pair in the sky.\n",
       "They soared through the clouds, their laughter echoing loud,\n",
       "Their friendship was pure, their hearts unbound.\n",
       "\n",
       "So here's to Pandaman and Nick,\n",
       "A friendship that will forever stick.\n",
       "Together they saved the day,\n",
       "With Pandaman's powers and Nick's courage, they found a way.`, start=174, stop=875, name=poem, chunk=False, score=1.4958069732964556e-25)"
      ]
     },
     "execution_count": 12,
     "metadata": {},
     "output_type": "execute_result"
    },
    {
     "data": {
      "application/javascript": [
       "\n",
       "            setTimeout(function() {\n",
       "                var nbb_cell_id = 12;\n",
       "                var nbb_unformatted_code = \"filled_in.completions.poem\";\n",
       "                var nbb_formatted_code = \"filled_in.completions.poem\";\n",
       "                var nbb_cells = Jupyter.notebook.get_cells();\n",
       "                for (var i = 0; i < nbb_cells.length; ++i) {\n",
       "                    if (nbb_cells[i].input_prompt_number == nbb_cell_id) {\n",
       "                        if (nbb_cells[i].get_text() == nbb_unformatted_code) {\n",
       "                             nbb_cells[i].set_text(nbb_formatted_code);\n",
       "                        }\n",
       "                        break;\n",
       "                    }\n",
       "                }\n",
       "            }, 500);\n",
       "            "
      ],
      "text/plain": [
       "<IPython.core.display.Javascript object>"
      ]
     },
     "metadata": {},
     "output_type": "display_data"
    }
   ],
   "source": [
    "filled_in.completions.poem"
   ]
  },
  {
   "cell_type": "code",
   "execution_count": 13,
   "id": "c7ff6048",
   "metadata": {},
   "outputs": [
    {
     "data": {
      "text/plain": [
       "[Completion(text='3, ', value=`3, `, start=1001, stop=1004, name=countdown, chunk=False, score=0.999998160641246),\n",
       " Completion(text='2, ', value=`2, `, start=1004, stop=1007, name=countdown, chunk=False, score=0.9999988864704665),\n",
       " Completion(text='1, ', value=`1, `, start=1007, stop=1010, name=countdown, chunk=False, score=0.9999861345081884),\n",
       " Completion(text='0, ', value=`0, `, start=1010, stop=1013, name=countdown, chunk=False, score=0.9999975762234011)]"
      ]
     },
     "execution_count": 13,
     "metadata": {},
     "output_type": "execute_result"
    },
    {
     "data": {
      "application/javascript": [
       "\n",
       "            setTimeout(function() {\n",
       "                var nbb_cell_id = 13;\n",
       "                var nbb_unformatted_code = \"filled_in.completions.countdown\";\n",
       "                var nbb_formatted_code = \"filled_in.completions.countdown\";\n",
       "                var nbb_cells = Jupyter.notebook.get_cells();\n",
       "                for (var i = 0; i < nbb_cells.length; ++i) {\n",
       "                    if (nbb_cells[i].input_prompt_number == nbb_cell_id) {\n",
       "                        if (nbb_cells[i].get_text() == nbb_unformatted_code) {\n",
       "                             nbb_cells[i].set_text(nbb_formatted_code);\n",
       "                        }\n",
       "                        break;\n",
       "                    }\n",
       "                }\n",
       "            }, 500);\n",
       "            "
      ],
      "text/plain": [
       "<IPython.core.display.Javascript object>"
      ]
     },
     "metadata": {},
     "output_type": "display_data"
    }
   ],
   "source": [
    "filled_in.completions.countdown"
   ]
  },
  {
   "cell_type": "code",
   "execution_count": null,
   "id": "99f2a17c",
   "metadata": {},
   "outputs": [],
   "source": []
  }
 ],
 "metadata": {
  "kernelspec": {
   "display_name": "Python 3 (ipykernel)",
   "language": "python",
   "name": "python3"
  },
  "language_info": {
   "codemirror_mode": {
    "name": "ipython",
    "version": 3
   },
   "file_extension": ".py",
   "mimetype": "text/x-python",
   "name": "python",
   "nbconvert_exporter": "python",
   "pygments_lexer": "ipython3",
   "version": "3.10.9"
  }
 },
 "nbformat": 4,
 "nbformat_minor": 5
}
