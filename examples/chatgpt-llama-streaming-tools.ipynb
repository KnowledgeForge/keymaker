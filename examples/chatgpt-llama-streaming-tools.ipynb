{
 "cells": [
  {
   "cell_type": "code",
   "execution_count": 1,
   "id": "ee812716",
   "metadata": {},
   "outputs": [],
   "source": [
    "from enum import Enum\n",
    "import openai\n",
    "\n",
    "from keymaker.models import chatgpt, gpt4, LlamaCpp\n",
    "from keymaker.constraints import RegexConstraint, OptionsConstraint\n",
    "from keymaker import Prompt"
   ]
  },
  {
   "cell_type": "code",
   "execution_count": 2,
   "id": "9c40df09",
   "metadata": {},
   "outputs": [],
   "source": [
    "openai.api_key = \"\""
   ]
  },
  {
   "cell_type": "code",
   "execution_count": 3,
   "id": "1f5e901e",
   "metadata": {},
   "outputs": [],
   "source": [
    "chat_model=chatgpt()"
   ]
  },
  {
   "cell_type": "code",
   "execution_count": 4,
   "id": "4cd8253f",
   "metadata": {},
   "outputs": [],
   "source": [
    "user_msg = \"The weather will be really shitty tomorrow what should I wear?\""
   ]
  },
  {
   "cell_type": "code",
   "execution_count": 5,
   "id": "21629fae",
   "metadata": {},
   "outputs": [],
   "source": [
    "prompt_template=f\"\"\"\n",
    "%system%You are an AI assistant that chooses tools for tasks based on a user task and tool descriptions.\n",
    "Here are the tools you can choose from:\n",
    "    Tool A: Looks up information on animals\n",
    "    Tool B: Finds peoples geolocation based on triangulating their phone data\n",
    "    Tool C: Finds the best outfit to wear today based on the weather\n",
    "%/system%\n",
    "%user%{user_msg}\n",
    "Explain your reasoning in 50 words or less and then choose the appropriate tool.\n",
    "%/user%\n",
    "\"\"\""
   ]
  },
  {
   "cell_type": "code",
   "execution_count": 6,
   "id": "3664d8e8",
   "metadata": {},
   "outputs": [],
   "source": [
    "async def print_stream(*args, **kwargs):\n",
    "    print(args, kwargs)"
   ]
  },
  {
   "cell_type": "code",
   "execution_count": 7,
   "id": "c5c731ab",
   "metadata": {},
   "outputs": [],
   "source": [
    "prompt = Prompt(prompt_template)"
   ]
  },
  {
   "cell_type": "code",
   "execution_count": 8,
   "id": "0dbf61fc",
   "metadata": {},
   "outputs": [
    {
     "name": "stdout",
     "output_type": "stream",
     "text": [
      "(Completion(text = 'Based', start = 505, stop = 510),) {}\n",
      "(Completion(text = ' on', start = 510, stop = 513),) {}\n",
      "(Completion(text = ' the', start = 513, stop = 517),) {}\n",
      "(Completion(text = ' user', start = 517, stop = 522),) {}\n",
      "(Completion(text = ''s', start = 522, stop = 524),) {}\n",
      "(Completion(text = ' request', start = 524, stop = 532),) {}\n",
      "(Completion(text = ' to', start = 532, stop = 535),) {}\n",
      "(Completion(text = ' find', start = 535, stop = 540),) {}\n",
      "(Completion(text = ' the', start = 540, stop = 544),) {}\n",
      "(Completion(text = ' best', start = 544, stop = 549),) {}\n",
      "(Completion(text = ' outfit', start = 549, stop = 556),) {}\n",
      "(Completion(text = ' to', start = 556, stop = 559),) {}\n",
      "(Completion(text = ' wear', start = 559, stop = 564),) {}\n",
      "(Completion(text = ' tomorrow', start = 564, stop = 573),) {}\n",
      "(Completion(text = ',', start = 573, stop = 574),) {}\n",
      "(Completion(text = ' the', start = 574, stop = 578),) {}\n",
      "(Completion(text = ' appropriate', start = 578, stop = 590),) {}\n",
      "(Completion(text = ' tool', start = 590, stop = 595),) {}\n",
      "(Completion(text = ' to', start = 595, stop = 598),) {}\n",
      "(Completion(text = ' use', start = 598, stop = 602),) {}\n",
      "(Completion(text = ' would', start = 602, stop = 608),) {}\n",
      "(Completion(text = ' be', start = 608, stop = 611),) {}\n",
      "(Completion(text = ' Tool', start = 611, stop = 616),) {}\n",
      "(Completion(text = ' C', start = 616, stop = 618),) {}\n",
      "(Completion(text = ',', start = 618, stop = 619),) {}\n",
      "(Completion(text = ' which', start = 619, stop = 625),) {}\n",
      "(Completion(text = ' finds', start = 625, stop = 631),) {}\n",
      "(Completion(text = ' the', start = 631, stop = 635),) {}\n",
      "(Completion(text = ' best', start = 635, stop = 640),) {}\n",
      "(Completion(text = ' outfit', start = 640, stop = 647),) {}\n",
      "(Completion(text = ' based', start = 647, stop = 653),) {}\n",
      "(Completion(text = ' on', start = 653, stop = 656),) {}\n",
      "(Completion(text = ' the', start = 656, stop = 660),) {}\n",
      "(Completion(text = ' weather', start = 660, stop = 668),) {}\n",
      "(Completion(text = '.', start = 668, stop = 669),) {}\n",
      "(Completion(text = ' This', start = 669, stop = 674),) {}\n",
      "(Completion(text = ' tool', start = 674, stop = 679),) {}\n",
      "(Completion(text = ' will', start = 679, stop = 684),) {}\n",
      "(Completion(text = ' consider', start = 684, stop = 693),) {}\n",
      "(Completion(text = ' the', start = 693, stop = 697),) {}\n",
      "(Completion(text = ' weather', start = 697, stop = 705),) {}\n",
      "(Completion(text = ' conditions', start = 705, stop = 716),) {}\n",
      "(Completion(text = ' and', start = 716, stop = 720),) {}\n",
      "(Completion(text = ' provide', start = 720, stop = 728),) {}\n",
      "(Completion(text = ' recommendations', start = 728, stop = 744),) {}\n",
      "(Completion(text = ' on', start = 744, stop = 747),) {}\n",
      "(Completion(text = ' what', start = 747, stop = 752),) {}\n",
      "(Completion(text = ' to', start = 752, stop = 755),) {}\n",
      "(Completion(text = ' wear', start = 755, stop = 760),) {}\n",
      "(Completion(text = ' to', start = 760, stop = 763),) {}\n",
      "(Completion(text = ' stay', start = 763, stop = 768),) {}\n",
      "(Completion(text = ' comfortable', start = 768, stop = 780),) {}\n",
      "(Completion(text = ' and', start = 780, stop = 784),) {}\n",
      "(Completion(text = ' appropriate', start = 784, stop = 796),) {}\n",
      "(Completion(text = ' for', start = 796, stop = 800),) {}\n",
      "(Completion(text = ' the', start = 800, stop = 804),) {}\n",
      "(Completion(text = ' day', start = 804, stop = 808),) {}\n",
      "(Completion(text = ''s', start = 808, stop = 810),) {}\n",
      "(Completion(text = ' conditions', start = 810, stop = 821),) {}\n",
      "(Completion(text = '.', start = 821, stop = 822),) {}\n",
      "(None,) {}\n"
     ]
    }
   ],
   "source": [
    "prompt = await prompt.complete(model=chat_model, max_tokens=100, stream=print_stream, name='explanation')"
   ]
  },
  {
   "cell_type": "code",
   "execution_count": 9,
   "id": "4b2281ca",
   "metadata": {},
   "outputs": [
    {
     "data": {
      "text/plain": [
       "Completion(text = 'Based on the user's request to find the best outfit to wear tomorrow, the appropriate tool to use would be Tool C, which finds the best outfit based on the weather. This tool will consider the weather conditions and provide recommendations on what to wear to stay comfortable and appropriate for the day's conditions.', start = 505, stop = 822)"
      ]
     },
     "execution_count": 9,
     "metadata": {},
     "output_type": "execute_result"
    }
   ],
   "source": [
    "prompt.completions.explanation"
   ]
  },
  {
   "cell_type": "code",
   "execution_count": 10,
   "id": "5512a464",
   "metadata": {},
   "outputs": [
    {
     "name": "stderr",
     "output_type": "stream",
     "text": [
      "llama.cpp: loading model from /Users/nick/Downloads/orca-mini-v2_7b.ggmlv3.q3_K_S.bin\n",
      "llama_model_load_internal: format     = ggjt v3 (latest)\n",
      "llama_model_load_internal: n_vocab    = 32000\n",
      "llama_model_load_internal: n_ctx      = 512\n",
      "llama_model_load_internal: n_embd     = 4096\n",
      "llama_model_load_internal: n_mult     = 256\n",
      "llama_model_load_internal: n_head     = 32\n",
      "llama_model_load_internal: n_layer    = 32\n",
      "llama_model_load_internal: n_rot      = 128\n",
      "llama_model_load_internal: ftype      = 11 (mostly Q3_K - Small)\n",
      "llama_model_load_internal: n_ff       = 11008\n",
      "llama_model_load_internal: model size = 7B\n",
      "llama_model_load_internal: ggml ctx size =    0.08 MB\n",
      "llama_model_load_internal: mem required  = 4603.09 MB (+ 1026.00 MB per state)\n",
      "llama_new_context_with_model: kv self size  =  256.00 MB\n",
      "AVX = 0 | AVX2 = 0 | AVX512 = 0 | AVX512_VBMI = 0 | AVX512_VNNI = 0 | FMA = 0 | NEON = 1 | ARM_FMA = 1 | F16C = 0 | FP16_VA = 1 | WASM_SIMD = 0 | BLAS = 1 | SSE3 = 0 | VSX = 0 | \n"
     ]
    }
   ],
   "source": [
    "llama_model = LlamaCpp(model_path=\"/Users/nick/Downloads/orca-mini-v2_7b.ggmlv3.q3_K_S.bin\")"
   ]
  },
  {
   "cell_type": "code",
   "execution_count": 11,
   "id": "7d4ab162",
   "metadata": {},
   "outputs": [],
   "source": [
    "constraint = OptionsConstraint({'A', 'B', 'C'})"
   ]
  },
  {
   "cell_type": "code",
   "execution_count": 12,
   "id": "43a86a07",
   "metadata": {},
   "outputs": [],
   "source": [
    "llama_prompt = Prompt(prompt.completions.explanation)+\"\"\"\n",
    "User: Based on this explanation which tool should be chosen?\n",
    "Assistant:\"\"\""
   ]
  },
  {
   "cell_type": "code",
   "execution_count": 13,
   "id": "929c8e4a",
   "metadata": {},
   "outputs": [
    {
     "name": "stderr",
     "output_type": "stream",
     "text": [
      "\n",
      "llama_print_timings:        load time =  7412.85 ms\n",
      "llama_print_timings:      sample time =     0.71 ms /     1 runs   (    0.71 ms per token,  1408.45 tokens per second)\n",
      "llama_print_timings: prompt eval time =  7412.77 ms /    84 tokens (   88.25 ms per token,    11.33 tokens per second)\n",
      "llama_print_timings:        eval time =     0.00 ms /     1 runs   (    0.00 ms per token,      inf tokens per second)\n",
      "llama_print_timings:       total time =  7417.15 ms\n"
     ]
    }
   ],
   "source": [
    "choice_prompt = await llama_prompt.complete(model=llama_model, constraint=constraint)"
   ]
  },
  {
   "cell_type": "code",
   "execution_count": 14,
   "id": "84bf4cb2",
   "metadata": {},
   "outputs": [],
   "source": [
    "class ToolKinds(Enum):\n",
    "    A = 'A'\n",
    "    B = 'B'\n",
    "    C = 'C'"
   ]
  },
  {
   "cell_type": "code",
   "execution_count": 15,
   "id": "b4b06f54",
   "metadata": {},
   "outputs": [],
   "source": [
    "tool_choice: ToolKinds = ToolKinds(choice_prompt.completions[0])"
   ]
  },
  {
   "cell_type": "code",
   "execution_count": 16,
   "id": "7d2fadba",
   "metadata": {},
   "outputs": [],
   "source": [
    "async def choose_a_tool(prompt, choices_enum: Enum):\n",
    "    constraint = OptionsConstraint({e.value for e in choices_enum})\n",
    "    return choices_enum((await prompt.complete(model=llama_model, constraint=constraint)).completions[0])"
   ]
  },
  {
   "cell_type": "code",
   "execution_count": 17,
   "id": "f8acc6df",
   "metadata": {},
   "outputs": [
    {
     "name": "stderr",
     "output_type": "stream",
     "text": [
      "Llama.generate: prefix-match hit\n",
      "\n",
      "llama_print_timings:        load time =  7412.85 ms\n",
      "llama_print_timings:      sample time =     0.69 ms /     1 runs   (    0.69 ms per token,  1453.49 tokens per second)\n",
      "llama_print_timings: prompt eval time =     0.00 ms /     1 tokens (    0.00 ms per token,      inf tokens per second)\n",
      "llama_print_timings:        eval time =  1034.10 ms /     1 runs   ( 1034.10 ms per token,     0.97 tokens per second)\n",
      "llama_print_timings:       total time =  1038.36 ms\n"
     ]
    },
    {
     "data": {
      "text/plain": [
       "<ToolKinds.C: 'C'>"
      ]
     },
     "execution_count": 17,
     "metadata": {},
     "output_type": "execute_result"
    }
   ],
   "source": [
    "await choose_a_tool(llama_prompt, ToolKinds)"
   ]
  },
  {
   "cell_type": "code",
   "execution_count": null,
   "id": "c1dac4ac",
   "metadata": {},
   "outputs": [],
   "source": []
  }
 ],
 "metadata": {
  "kernelspec": {
   "display_name": "Python 3 (ipykernel)",
   "language": "python",
   "name": "python3"
  },
  "language_info": {
   "codemirror_mode": {
    "name": "ipython",
    "version": 3
   },
   "file_extension": ".py",
   "mimetype": "text/x-python",
   "name": "python",
   "nbconvert_exporter": "python",
   "pygments_lexer": "ipython3",
   "version": "3.10.9"
  }
 },
 "nbformat": 4,
 "nbformat_minor": 5
}
