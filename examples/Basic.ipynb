{
 "cells": [
  {
   "cell_type": "code",
   "execution_count": 1,
   "id": "dfef3753",
   "metadata": {},
   "outputs": [
    {
     "data": {
      "application/javascript": [
       "\n",
       "            setTimeout(function() {\n",
       "                var nbb_cell_id = 1;\n",
       "                var nbb_unformatted_code = \"%load_ext nb_black\";\n",
       "                var nbb_formatted_code = \"%load_ext nb_black\";\n",
       "                var nbb_cells = Jupyter.notebook.get_cells();\n",
       "                for (var i = 0; i < nbb_cells.length; ++i) {\n",
       "                    if (nbb_cells[i].input_prompt_number == nbb_cell_id) {\n",
       "                        if (nbb_cells[i].get_text() == nbb_unformatted_code) {\n",
       "                             nbb_cells[i].set_text(nbb_formatted_code);\n",
       "                        }\n",
       "                        break;\n",
       "                    }\n",
       "                }\n",
       "            }, 500);\n",
       "            "
      ],
      "text/plain": [
       "<IPython.core.display.Javascript object>"
      ]
     },
     "metadata": {},
     "output_type": "display_data"
    }
   ],
   "source": [
    "%load_ext nb_black"
   ]
  },
  {
   "cell_type": "markdown",
   "id": "b6706efb",
   "metadata": {},
   "source": [
    "# Some things this notebook demonstrates:\n",
    "- creating models for use completing prompts\n",
    "- creating prompts\n",
    "  - as templates\n",
    "  - for use with both chat based models as well as ordinary completion\n",
    "- basic use of completions\n",
    "  - naming completions\n",
    "  - limiting the number of tokens\n",
    "- writing control-flow around prompts and completions\n",
    "  - swapping models\n",
    "    - even between chat and non-chat models\n",
    "  - manipulating a prompt between completions\n",
    "  - tool-choice\n",
    "- constraints\n",
    "  - using a simple options constrain with an enum\n",
    "- streaming completion output\n",
    "- completion confidence"
   ]
  },
  {
   "cell_type": "code",
   "execution_count": 2,
   "id": "ee812716",
   "metadata": {},
   "outputs": [
    {
     "data": {
      "application/javascript": [
       "\n",
       "            setTimeout(function() {\n",
       "                var nbb_cell_id = 2;\n",
       "                var nbb_unformatted_code = \"from enum import Enum\\nimport openai\\n\\nfrom keymaker.models import chatgpt, gpt4, LlamaCpp\\nfrom keymaker.constraints import RegexConstraint, OptionsConstraint\\nfrom keymaker import Prompt, Completion\";\n",
       "                var nbb_formatted_code = \"from enum import Enum\\nimport openai\\n\\nfrom keymaker.models import chatgpt, gpt4, LlamaCpp\\nfrom keymaker.constraints import RegexConstraint, OptionsConstraint\\nfrom keymaker import Prompt, Completion\";\n",
       "                var nbb_cells = Jupyter.notebook.get_cells();\n",
       "                for (var i = 0; i < nbb_cells.length; ++i) {\n",
       "                    if (nbb_cells[i].input_prompt_number == nbb_cell_id) {\n",
       "                        if (nbb_cells[i].get_text() == nbb_unformatted_code) {\n",
       "                             nbb_cells[i].set_text(nbb_formatted_code);\n",
       "                        }\n",
       "                        break;\n",
       "                    }\n",
       "                }\n",
       "            }, 500);\n",
       "            "
      ],
      "text/plain": [
       "<IPython.core.display.Javascript object>"
      ]
     },
     "metadata": {},
     "output_type": "display_data"
    }
   ],
   "source": [
    "from enum import Enum\n",
    "import openai\n",
    "\n",
    "from keymaker.models import chatgpt, gpt4, LlamaCpp\n",
    "from keymaker.constraints import RegexConstraint, OptionsConstraint\n",
    "from keymaker import Prompt, Completion"
   ]
  },
  {
   "cell_type": "code",
   "execution_count": 3,
   "id": "9c40df09",
   "metadata": {},
   "outputs": [
    {
     "data": {
      "application/javascript": [
       "\n",
       "            setTimeout(function() {\n",
       "                var nbb_cell_id = 3;\n",
       "                var nbb_unformatted_code = \"import json\\n\\nwith open(\\\"config.json\\\") as f:\\n    openai.api_key = json.loads(f.read())[\\\"OPENAI_API_KEY\\\"]\";\n",
       "                var nbb_formatted_code = \"import json\\n\\nwith open(\\\"config.json\\\") as f:\\n    openai.api_key = json.loads(f.read())[\\\"OPENAI_API_KEY\\\"]\";\n",
       "                var nbb_cells = Jupyter.notebook.get_cells();\n",
       "                for (var i = 0; i < nbb_cells.length; ++i) {\n",
       "                    if (nbb_cells[i].input_prompt_number == nbb_cell_id) {\n",
       "                        if (nbb_cells[i].get_text() == nbb_unformatted_code) {\n",
       "                             nbb_cells[i].set_text(nbb_formatted_code);\n",
       "                        }\n",
       "                        break;\n",
       "                    }\n",
       "                }\n",
       "            }, 500);\n",
       "            "
      ],
      "text/plain": [
       "<IPython.core.display.Javascript object>"
      ]
     },
     "metadata": {},
     "output_type": "display_data"
    }
   ],
   "source": [
    "import json\n",
    "\n",
    "with open(\"config.json\") as f:\n",
    "    openai.api_key = json.loads(f.read())[\"OPENAI_API_KEY\"]"
   ]
  },
  {
   "cell_type": "code",
   "execution_count": 4,
   "id": "1f5e901e",
   "metadata": {},
   "outputs": [
    {
     "data": {
      "application/javascript": [
       "\n",
       "            setTimeout(function() {\n",
       "                var nbb_cell_id = 4;\n",
       "                var nbb_unformatted_code = \"chat_model = chatgpt()\";\n",
       "                var nbb_formatted_code = \"chat_model = chatgpt()\";\n",
       "                var nbb_cells = Jupyter.notebook.get_cells();\n",
       "                for (var i = 0; i < nbb_cells.length; ++i) {\n",
       "                    if (nbb_cells[i].input_prompt_number == nbb_cell_id) {\n",
       "                        if (nbb_cells[i].get_text() == nbb_unformatted_code) {\n",
       "                             nbb_cells[i].set_text(nbb_formatted_code);\n",
       "                        }\n",
       "                        break;\n",
       "                    }\n",
       "                }\n",
       "            }, 500);\n",
       "            "
      ],
      "text/plain": [
       "<IPython.core.display.Javascript object>"
      ]
     },
     "metadata": {},
     "output_type": "display_data"
    }
   ],
   "source": [
    "chat_model = chatgpt()"
   ]
  },
  {
   "cell_type": "code",
   "execution_count": 5,
   "id": "4cd8253f",
   "metadata": {},
   "outputs": [
    {
     "data": {
      "application/javascript": [
       "\n",
       "            setTimeout(function() {\n",
       "                var nbb_cell_id = 5;\n",
       "                var nbb_unformatted_code = \"user_msg = \\\"The weather will be really bad tomorrow what should I wear?\\\"\";\n",
       "                var nbb_formatted_code = \"user_msg = \\\"The weather will be really bad tomorrow what should I wear?\\\"\";\n",
       "                var nbb_cells = Jupyter.notebook.get_cells();\n",
       "                for (var i = 0; i < nbb_cells.length; ++i) {\n",
       "                    if (nbb_cells[i].input_prompt_number == nbb_cell_id) {\n",
       "                        if (nbb_cells[i].get_text() == nbb_unformatted_code) {\n",
       "                             nbb_cells[i].set_text(nbb_formatted_code);\n",
       "                        }\n",
       "                        break;\n",
       "                    }\n",
       "                }\n",
       "            }, 500);\n",
       "            "
      ],
      "text/plain": [
       "<IPython.core.display.Javascript object>"
      ]
     },
     "metadata": {},
     "output_type": "display_data"
    }
   ],
   "source": [
    "user_msg = \"The weather will be really bad tomorrow what should I wear?\""
   ]
  },
  {
   "cell_type": "code",
   "execution_count": 6,
   "id": "21629fae",
   "metadata": {},
   "outputs": [
    {
     "data": {
      "application/javascript": [
       "\n",
       "            setTimeout(function() {\n",
       "                var nbb_cell_id = 6;\n",
       "                var nbb_unformatted_code = \"prompt_template = f\\\"\\\"\\\"\\n%system%You are an AI assistant that chooses tools for tasks based on a user task and tool descriptions.\\nHere are the tools you can choose from:\\n    Tool A: Looks up information on animals\\n    Tool B: Finds peoples geolocation based on triangulating their phone data\\n    Tool C: Finds the best outfit to wear today based on the weather\\n%/system%\\n%user%{user_msg}\\nExplain your reasoning in 50 words or less and then choose the appropriate tool.\\n%/user%\\n\\\"\\\"\\\"\";\n",
       "                var nbb_formatted_code = \"prompt_template = f\\\"\\\"\\\"\\n%system%You are an AI assistant that chooses tools for tasks based on a user task and tool descriptions.\\nHere are the tools you can choose from:\\n    Tool A: Looks up information on animals\\n    Tool B: Finds peoples geolocation based on triangulating their phone data\\n    Tool C: Finds the best outfit to wear today based on the weather\\n%/system%\\n%user%{user_msg}\\nExplain your reasoning in 50 words or less and then choose the appropriate tool.\\n%/user%\\n\\\"\\\"\\\"\";\n",
       "                var nbb_cells = Jupyter.notebook.get_cells();\n",
       "                for (var i = 0; i < nbb_cells.length; ++i) {\n",
       "                    if (nbb_cells[i].input_prompt_number == nbb_cell_id) {\n",
       "                        if (nbb_cells[i].get_text() == nbb_unformatted_code) {\n",
       "                             nbb_cells[i].set_text(nbb_formatted_code);\n",
       "                        }\n",
       "                        break;\n",
       "                    }\n",
       "                }\n",
       "            }, 500);\n",
       "            "
      ],
      "text/plain": [
       "<IPython.core.display.Javascript object>"
      ]
     },
     "metadata": {},
     "output_type": "display_data"
    }
   ],
   "source": [
    "prompt_template = f\"\"\"\n",
    "%system%You are an AI assistant that chooses tools for tasks based on a user task and tool descriptions.\n",
    "Here are the tools you can choose from:\n",
    "    Tool A: Looks up information on animals\n",
    "    Tool B: Finds peoples geolocation based on triangulating their phone data\n",
    "    Tool C: Finds the best outfit to wear today based on the weather\n",
    "%/system%\n",
    "%user%{user_msg}\n",
    "Explain your reasoning in 50 words or less and then choose the appropriate tool.\n",
    "%/user%\n",
    "\"\"\""
   ]
  },
  {
   "cell_type": "code",
   "execution_count": 7,
   "id": "3664d8e8",
   "metadata": {},
   "outputs": [
    {
     "data": {
      "application/javascript": [
       "\n",
       "            setTimeout(function() {\n",
       "                var nbb_cell_id = 7;\n",
       "                var nbb_unformatted_code = \"async def print_stream(completion: Completion):\\n    print(repr(completion))\";\n",
       "                var nbb_formatted_code = \"async def print_stream(completion: Completion):\\n    print(repr(completion))\";\n",
       "                var nbb_cells = Jupyter.notebook.get_cells();\n",
       "                for (var i = 0; i < nbb_cells.length; ++i) {\n",
       "                    if (nbb_cells[i].input_prompt_number == nbb_cell_id) {\n",
       "                        if (nbb_cells[i].get_text() == nbb_unformatted_code) {\n",
       "                             nbb_cells[i].set_text(nbb_formatted_code);\n",
       "                        }\n",
       "                        break;\n",
       "                    }\n",
       "                }\n",
       "            }, 500);\n",
       "            "
      ],
      "text/plain": [
       "<IPython.core.display.Javascript object>"
      ]
     },
     "metadata": {},
     "output_type": "display_data"
    }
   ],
   "source": [
    "async def print_stream(completion: Completion):\n",
    "    print(repr(completion))"
   ]
  },
  {
   "cell_type": "code",
   "execution_count": 8,
   "id": "c5c731ab",
   "metadata": {},
   "outputs": [
    {
     "data": {
      "application/javascript": [
       "\n",
       "            setTimeout(function() {\n",
       "                var nbb_cell_id = 8;\n",
       "                var nbb_unformatted_code = \"prompt = Prompt(prompt_template)\";\n",
       "                var nbb_formatted_code = \"prompt = Prompt(prompt_template)\";\n",
       "                var nbb_cells = Jupyter.notebook.get_cells();\n",
       "                for (var i = 0; i < nbb_cells.length; ++i) {\n",
       "                    if (nbb_cells[i].input_prompt_number == nbb_cell_id) {\n",
       "                        if (nbb_cells[i].get_text() == nbb_unformatted_code) {\n",
       "                             nbb_cells[i].set_text(nbb_formatted_code);\n",
       "                        }\n",
       "                        break;\n",
       "                    }\n",
       "                }\n",
       "            }, 500);\n",
       "            "
      ],
      "text/plain": [
       "<IPython.core.display.Javascript object>"
      ]
     },
     "metadata": {},
     "output_type": "display_data"
    }
   ],
   "source": [
    "prompt = Prompt(prompt_template)"
   ]
  },
  {
   "cell_type": "code",
   "execution_count": 9,
   "id": "0dbf61fc",
   "metadata": {},
   "outputs": [
    {
     "name": "stdout",
     "output_type": "stream",
     "text": [
      "Completion(text='Based', start=502, stop=507, name=explanation, chunk=True, score=None)\n",
      "Completion(text=' on', start=507, stop=510, name=explanation, chunk=True, score=None)\n",
      "Completion(text=' the', start=510, stop=514, name=explanation, chunk=True, score=None)\n",
      "Completion(text=' user', start=514, stop=519, name=explanation, chunk=True, score=None)\n",
      "Completion(text=''s', start=519, stop=521, name=explanation, chunk=True, score=None)\n",
      "Completion(text=' request', start=521, stop=529, name=explanation, chunk=True, score=None)\n",
      "Completion(text=',', start=529, stop=530, name=explanation, chunk=True, score=None)\n",
      "Completion(text=' the', start=530, stop=534, name=explanation, chunk=True, score=None)\n",
      "Completion(text=' appropriate', start=534, stop=546, name=explanation, chunk=True, score=None)\n",
      "Completion(text=' tool', start=546, stop=551, name=explanation, chunk=True, score=None)\n",
      "Completion(text=' to', start=551, stop=554, name=explanation, chunk=True, score=None)\n",
      "Completion(text=' use', start=554, stop=558, name=explanation, chunk=True, score=None)\n",
      "Completion(text=' would', start=558, stop=564, name=explanation, chunk=True, score=None)\n",
      "Completion(text=' be', start=564, stop=567, name=explanation, chunk=True, score=None)\n",
      "Completion(text=' Tool', start=567, stop=572, name=explanation, chunk=True, score=None)\n",
      "Completion(text=' C', start=572, stop=574, name=explanation, chunk=True, score=None)\n",
      "Completion(text=',', start=574, stop=575, name=explanation, chunk=True, score=None)\n",
      "Completion(text=' which', start=575, stop=581, name=explanation, chunk=True, score=None)\n",
      "Completion(text=' finds', start=581, stop=587, name=explanation, chunk=True, score=None)\n",
      "Completion(text=' the', start=587, stop=591, name=explanation, chunk=True, score=None)\n",
      "Completion(text=' best', start=591, stop=596, name=explanation, chunk=True, score=None)\n",
      "Completion(text=' outfit', start=596, stop=603, name=explanation, chunk=True, score=None)\n",
      "Completion(text=' to', start=603, stop=606, name=explanation, chunk=True, score=None)\n",
      "Completion(text=' wear', start=606, stop=611, name=explanation, chunk=True, score=None)\n",
      "Completion(text=' based', start=611, stop=617, name=explanation, chunk=True, score=None)\n",
      "Completion(text=' on', start=617, stop=620, name=explanation, chunk=True, score=None)\n",
      "Completion(text=' the', start=620, stop=624, name=explanation, chunk=True, score=None)\n",
      "Completion(text=' weather', start=624, stop=632, name=explanation, chunk=True, score=None)\n",
      "Completion(text='.', start=632, stop=633, name=explanation, chunk=True, score=None)\n",
      "Completion(text=' This', start=633, stop=638, name=explanation, chunk=True, score=None)\n",
      "Completion(text=' tool', start=638, stop=643, name=explanation, chunk=True, score=None)\n",
      "Completion(text=' will', start=643, stop=648, name=explanation, chunk=True, score=None)\n",
      "Completion(text=' analyze', start=648, stop=656, name=explanation, chunk=True, score=None)\n",
      "Completion(text=' the', start=656, stop=660, name=explanation, chunk=True, score=None)\n",
      "Completion(text=' weather', start=660, stop=668, name=explanation, chunk=True, score=None)\n",
      "Completion(text=' conditions', start=668, stop=679, name=explanation, chunk=True, score=None)\n",
      "Completion(text=' for', start=679, stop=683, name=explanation, chunk=True, score=None)\n",
      "Completion(text=' tomorrow', start=683, stop=692, name=explanation, chunk=True, score=None)\n",
      "Completion(text=' and', start=692, stop=696, name=explanation, chunk=True, score=None)\n",
      "Completion(text=' provide', start=696, stop=704, name=explanation, chunk=True, score=None)\n",
      "Completion(text=' recommendations', start=704, stop=720, name=explanation, chunk=True, score=None)\n",
      "Completion(text=' on', start=720, stop=723, name=explanation, chunk=True, score=None)\n",
      "Completion(text=' what', start=723, stop=728, name=explanation, chunk=True, score=None)\n",
      "Completion(text=' to', start=728, stop=731, name=explanation, chunk=True, score=None)\n",
      "Completion(text=' wear', start=731, stop=736, name=explanation, chunk=True, score=None)\n",
      "Completion(text=' to', start=736, stop=739, name=explanation, chunk=True, score=None)\n",
      "Completion(text=' stay', start=739, stop=744, name=explanation, chunk=True, score=None)\n",
      "Completion(text=' comfortable', start=744, stop=756, name=explanation, chunk=True, score=None)\n",
      "Completion(text=' and', start=756, stop=760, name=explanation, chunk=True, score=None)\n",
      "Completion(text=' protected', start=760, stop=770, name=explanation, chunk=True, score=None)\n",
      "Completion(text=' from', start=770, stop=775, name=explanation, chunk=True, score=None)\n",
      "Completion(text=' the', start=775, stop=779, name=explanation, chunk=True, score=None)\n",
      "Completion(text=' bad', start=779, stop=783, name=explanation, chunk=True, score=None)\n",
      "Completion(text=' weather', start=783, stop=791, name=explanation, chunk=True, score=None)\n",
      "Completion(text='.', start=791, stop=792, name=explanation, chunk=True, score=None)\n",
      "None\n"
     ]
    },
    {
     "data": {
      "application/javascript": [
       "\n",
       "            setTimeout(function() {\n",
       "                var nbb_cell_id = 9;\n",
       "                var nbb_unformatted_code = \"prompt = await prompt.complete(\\n    model=chat_model, max_tokens=100, stream=print_stream, name=\\\"explanation\\\"\\n)\";\n",
       "                var nbb_formatted_code = \"prompt = await prompt.complete(\\n    model=chat_model, max_tokens=100, stream=print_stream, name=\\\"explanation\\\"\\n)\";\n",
       "                var nbb_cells = Jupyter.notebook.get_cells();\n",
       "                for (var i = 0; i < nbb_cells.length; ++i) {\n",
       "                    if (nbb_cells[i].input_prompt_number == nbb_cell_id) {\n",
       "                        if (nbb_cells[i].get_text() == nbb_unformatted_code) {\n",
       "                             nbb_cells[i].set_text(nbb_formatted_code);\n",
       "                        }\n",
       "                        break;\n",
       "                    }\n",
       "                }\n",
       "            }, 500);\n",
       "            "
      ],
      "text/plain": [
       "<IPython.core.display.Javascript object>"
      ]
     },
     "metadata": {},
     "output_type": "display_data"
    }
   ],
   "source": [
    "prompt = await prompt.complete(\n",
    "    model=chat_model, max_tokens=100, stream=print_stream, name=\"explanation\"\n",
    ")"
   ]
  },
  {
   "cell_type": "code",
   "execution_count": 10,
   "id": "4b2281ca",
   "metadata": {},
   "outputs": [
    {
     "data": {
      "text/plain": [
       "Completion(text='Based on the user's request, the appropriate tool to use would be Tool C, which finds the best outfit to wear based on the weather. This tool will analyze the weather conditions for tomorrow and provide recommendations on what to wear to stay comfortable and protected from the bad weather.', start=502, stop=792, name=explanation, chunk=False, score=None)"
      ]
     },
     "execution_count": 10,
     "metadata": {},
     "output_type": "execute_result"
    },
    {
     "data": {
      "application/javascript": [
       "\n",
       "            setTimeout(function() {\n",
       "                var nbb_cell_id = 10;\n",
       "                var nbb_unformatted_code = \"prompt.completions.explanation\";\n",
       "                var nbb_formatted_code = \"prompt.completions.explanation\";\n",
       "                var nbb_cells = Jupyter.notebook.get_cells();\n",
       "                for (var i = 0; i < nbb_cells.length; ++i) {\n",
       "                    if (nbb_cells[i].input_prompt_number == nbb_cell_id) {\n",
       "                        if (nbb_cells[i].get_text() == nbb_unformatted_code) {\n",
       "                             nbb_cells[i].set_text(nbb_formatted_code);\n",
       "                        }\n",
       "                        break;\n",
       "                    }\n",
       "                }\n",
       "            }, 500);\n",
       "            "
      ],
      "text/plain": [
       "<IPython.core.display.Javascript object>"
      ]
     },
     "metadata": {},
     "output_type": "display_data"
    }
   ],
   "source": [
    "prompt.completions.explanation"
   ]
  },
  {
   "cell_type": "code",
   "execution_count": 11,
   "id": "5512a464",
   "metadata": {},
   "outputs": [
    {
     "name": "stderr",
     "output_type": "stream",
     "text": [
      "llama.cpp: loading model from /Users/nick/Downloads/llama-2-7b-chat.ggmlv3.q3_K_S.bin\n",
      "llama_model_load_internal: format     = ggjt v3 (latest)\n",
      "llama_model_load_internal: n_vocab    = 32000\n",
      "llama_model_load_internal: n_ctx      = 512\n",
      "llama_model_load_internal: n_embd     = 4096\n",
      "llama_model_load_internal: n_mult     = 256\n",
      "llama_model_load_internal: n_head     = 32\n",
      "llama_model_load_internal: n_layer    = 32\n",
      "llama_model_load_internal: n_rot      = 128\n",
      "llama_model_load_internal: ftype      = 11 (mostly Q3_K - Small)\n",
      "llama_model_load_internal: n_ff       = 11008\n",
      "llama_model_load_internal: model size = 7B\n",
      "llama_model_load_internal: ggml ctx size =    0.08 MB\n",
      "llama_model_load_internal: mem required  = 4603.09 MB (+ 1026.00 MB per state)\n",
      "llama_new_context_with_model: kv self size  =  256.00 MB\n",
      "AVX = 0 | AVX2 = 0 | AVX512 = 0 | AVX512_VBMI = 0 | AVX512_VNNI = 0 | FMA = 0 | NEON = 1 | ARM_FMA = 1 | F16C = 0 | FP16_VA = 1 | WASM_SIMD = 0 | BLAS = 1 | SSE3 = 0 | VSX = 0 | \n"
     ]
    },
    {
     "data": {
      "application/javascript": [
       "\n",
       "            setTimeout(function() {\n",
       "                var nbb_cell_id = 11;\n",
       "                var nbb_unformatted_code = \"llama_model = LlamaCpp(\\n    model_path=\\\"/Users/nick/Downloads/llama-2-7b-chat.ggmlv3.q3_K_S.bin\\\"\\n)\";\n",
       "                var nbb_formatted_code = \"llama_model = LlamaCpp(\\n    model_path=\\\"/Users/nick/Downloads/llama-2-7b-chat.ggmlv3.q3_K_S.bin\\\"\\n)\";\n",
       "                var nbb_cells = Jupyter.notebook.get_cells();\n",
       "                for (var i = 0; i < nbb_cells.length; ++i) {\n",
       "                    if (nbb_cells[i].input_prompt_number == nbb_cell_id) {\n",
       "                        if (nbb_cells[i].get_text() == nbb_unformatted_code) {\n",
       "                             nbb_cells[i].set_text(nbb_formatted_code);\n",
       "                        }\n",
       "                        break;\n",
       "                    }\n",
       "                }\n",
       "            }, 500);\n",
       "            "
      ],
      "text/plain": [
       "<IPython.core.display.Javascript object>"
      ]
     },
     "metadata": {},
     "output_type": "display_data"
    }
   ],
   "source": [
    "llama_model = LlamaCpp(\n",
    "    model_path=\"/Users/nick/Downloads/llama-2-7b-chat.ggmlv3.q3_K_S.bin\"\n",
    ")"
   ]
  },
  {
   "cell_type": "code",
   "execution_count": 12,
   "id": "7d4ab162",
   "metadata": {},
   "outputs": [
    {
     "data": {
      "application/javascript": [
       "\n",
       "            setTimeout(function() {\n",
       "                var nbb_cell_id = 12;\n",
       "                var nbb_unformatted_code = \"constraint = OptionsConstraint({\\\"A\\\", \\\"B\\\", \\\"C\\\"})\";\n",
       "                var nbb_formatted_code = \"constraint = OptionsConstraint({\\\"A\\\", \\\"B\\\", \\\"C\\\"})\";\n",
       "                var nbb_cells = Jupyter.notebook.get_cells();\n",
       "                for (var i = 0; i < nbb_cells.length; ++i) {\n",
       "                    if (nbb_cells[i].input_prompt_number == nbb_cell_id) {\n",
       "                        if (nbb_cells[i].get_text() == nbb_unformatted_code) {\n",
       "                             nbb_cells[i].set_text(nbb_formatted_code);\n",
       "                        }\n",
       "                        break;\n",
       "                    }\n",
       "                }\n",
       "            }, 500);\n",
       "            "
      ],
      "text/plain": [
       "<IPython.core.display.Javascript object>"
      ]
     },
     "metadata": {},
     "output_type": "display_data"
    }
   ],
   "source": [
    "constraint = OptionsConstraint({\"A\", \"B\", \"C\"})"
   ]
  },
  {
   "cell_type": "code",
   "execution_count": 13,
   "id": "43a86a07",
   "metadata": {},
   "outputs": [
    {
     "data": {
      "application/javascript": [
       "\n",
       "            setTimeout(function() {\n",
       "                var nbb_cell_id = 13;\n",
       "                var nbb_unformatted_code = \"llama_prompt = (\\n    Prompt(prompt.completions.explanation)\\n    + \\\"\\\"\\\"\\nUser: Based on this explanation which tool should be chosen?\\nAssistant: Tool \\\"\\\"\\\"\\n)\";\n",
       "                var nbb_formatted_code = \"llama_prompt = (\\n    Prompt(prompt.completions.explanation)\\n    + \\\"\\\"\\\"\\nUser: Based on this explanation which tool should be chosen?\\nAssistant: Tool \\\"\\\"\\\"\\n)\";\n",
       "                var nbb_cells = Jupyter.notebook.get_cells();\n",
       "                for (var i = 0; i < nbb_cells.length; ++i) {\n",
       "                    if (nbb_cells[i].input_prompt_number == nbb_cell_id) {\n",
       "                        if (nbb_cells[i].get_text() == nbb_unformatted_code) {\n",
       "                             nbb_cells[i].set_text(nbb_formatted_code);\n",
       "                        }\n",
       "                        break;\n",
       "                    }\n",
       "                }\n",
       "            }, 500);\n",
       "            "
      ],
      "text/plain": [
       "<IPython.core.display.Javascript object>"
      ]
     },
     "metadata": {},
     "output_type": "display_data"
    }
   ],
   "source": [
    "llama_prompt = (\n",
    "    Prompt(prompt.completions.explanation)\n",
    "    + \"\"\"\n",
    "User: Based on this explanation which tool should be chosen?\n",
    "Assistant: Tool \"\"\"\n",
    ")"
   ]
  },
  {
   "cell_type": "code",
   "execution_count": 14,
   "id": "929c8e4a",
   "metadata": {},
   "outputs": [
    {
     "name": "stderr",
     "output_type": "stream",
     "text": [
      "\n",
      "llama_print_timings:        load time = 10224.36 ms\n",
      "llama_print_timings:      sample time =     0.69 ms /     1 runs   (    0.69 ms per token,  1457.73 tokens per second)\n",
      "llama_print_timings: prompt eval time = 10224.33 ms /    79 tokens (  129.42 ms per token,     7.73 tokens per second)\n",
      "llama_print_timings:        eval time =     0.00 ms /     1 runs   (    0.00 ms per token,      inf tokens per second)\n",
      "llama_print_timings:       total time = 10327.40 ms\n"
     ]
    },
    {
     "data": {
      "application/javascript": [
       "\n",
       "            setTimeout(function() {\n",
       "                var nbb_cell_id = 14;\n",
       "                var nbb_unformatted_code = \"choice_prompt = await llama_prompt.complete(model=llama_model, constraint=constraint)\";\n",
       "                var nbb_formatted_code = \"choice_prompt = await llama_prompt.complete(model=llama_model, constraint=constraint)\";\n",
       "                var nbb_cells = Jupyter.notebook.get_cells();\n",
       "                for (var i = 0; i < nbb_cells.length; ++i) {\n",
       "                    if (nbb_cells[i].input_prompt_number == nbb_cell_id) {\n",
       "                        if (nbb_cells[i].get_text() == nbb_unformatted_code) {\n",
       "                             nbb_cells[i].set_text(nbb_formatted_code);\n",
       "                        }\n",
       "                        break;\n",
       "                    }\n",
       "                }\n",
       "            }, 500);\n",
       "            "
      ],
      "text/plain": [
       "<IPython.core.display.Javascript object>"
      ]
     },
     "metadata": {},
     "output_type": "display_data"
    }
   ],
   "source": [
    "choice_prompt = await llama_prompt.complete(model=llama_model, constraint=constraint)"
   ]
  },
  {
   "cell_type": "code",
   "execution_count": 15,
   "id": "73128f9b",
   "metadata": {},
   "outputs": [
    {
     "data": {
      "text/plain": [
       "Completions([Completion(text='C', start=368, stop=369, name=None, chunk=False, score=0.9989875090832618)], {})"
      ]
     },
     "execution_count": 15,
     "metadata": {},
     "output_type": "execute_result"
    },
    {
     "data": {
      "application/javascript": [
       "\n",
       "            setTimeout(function() {\n",
       "                var nbb_cell_id = 15;\n",
       "                var nbb_unformatted_code = \"choice_prompt.completions\";\n",
       "                var nbb_formatted_code = \"choice_prompt.completions\";\n",
       "                var nbb_cells = Jupyter.notebook.get_cells();\n",
       "                for (var i = 0; i < nbb_cells.length; ++i) {\n",
       "                    if (nbb_cells[i].input_prompt_number == nbb_cell_id) {\n",
       "                        if (nbb_cells[i].get_text() == nbb_unformatted_code) {\n",
       "                             nbb_cells[i].set_text(nbb_formatted_code);\n",
       "                        }\n",
       "                        break;\n",
       "                    }\n",
       "                }\n",
       "            }, 500);\n",
       "            "
      ],
      "text/plain": [
       "<IPython.core.display.Javascript object>"
      ]
     },
     "metadata": {},
     "output_type": "display_data"
    }
   ],
   "source": [
    "choice_prompt.completions"
   ]
  },
  {
   "cell_type": "code",
   "execution_count": 16,
   "id": "84bf4cb2",
   "metadata": {},
   "outputs": [
    {
     "data": {
      "application/javascript": [
       "\n",
       "            setTimeout(function() {\n",
       "                var nbb_cell_id = 16;\n",
       "                var nbb_unformatted_code = \"class ToolKinds(Enum):\\n    A = \\\"A\\\"\\n    B = \\\"B\\\"\\n    C = \\\"C\\\"\";\n",
       "                var nbb_formatted_code = \"class ToolKinds(Enum):\\n    A = \\\"A\\\"\\n    B = \\\"B\\\"\\n    C = \\\"C\\\"\";\n",
       "                var nbb_cells = Jupyter.notebook.get_cells();\n",
       "                for (var i = 0; i < nbb_cells.length; ++i) {\n",
       "                    if (nbb_cells[i].input_prompt_number == nbb_cell_id) {\n",
       "                        if (nbb_cells[i].get_text() == nbb_unformatted_code) {\n",
       "                             nbb_cells[i].set_text(nbb_formatted_code);\n",
       "                        }\n",
       "                        break;\n",
       "                    }\n",
       "                }\n",
       "            }, 500);\n",
       "            "
      ],
      "text/plain": [
       "<IPython.core.display.Javascript object>"
      ]
     },
     "metadata": {},
     "output_type": "display_data"
    }
   ],
   "source": [
    "class ToolKinds(Enum):\n",
    "    A = \"A\"\n",
    "    B = \"B\"\n",
    "    C = \"C\""
   ]
  },
  {
   "cell_type": "code",
   "execution_count": 17,
   "id": "7d2fadba",
   "metadata": {},
   "outputs": [
    {
     "data": {
      "application/javascript": [
       "\n",
       "            setTimeout(function() {\n",
       "                var nbb_cell_id = 17;\n",
       "                var nbb_unformatted_code = \"async def choose_a_tool(prompt, choices_enum: Enum) -> ToolKinds:\\n    constraint = OptionsConstraint({e.value for e in choices_enum})\\n    return choices_enum(\\n        (await prompt.complete(model=llama_model, constraint=constraint)).completions[0]\\n    )\";\n",
       "                var nbb_formatted_code = \"async def choose_a_tool(prompt, choices_enum: Enum) -> ToolKinds:\\n    constraint = OptionsConstraint({e.value for e in choices_enum})\\n    return choices_enum(\\n        (await prompt.complete(model=llama_model, constraint=constraint)).completions[0]\\n    )\";\n",
       "                var nbb_cells = Jupyter.notebook.get_cells();\n",
       "                for (var i = 0; i < nbb_cells.length; ++i) {\n",
       "                    if (nbb_cells[i].input_prompt_number == nbb_cell_id) {\n",
       "                        if (nbb_cells[i].get_text() == nbb_unformatted_code) {\n",
       "                             nbb_cells[i].set_text(nbb_formatted_code);\n",
       "                        }\n",
       "                        break;\n",
       "                    }\n",
       "                }\n",
       "            }, 500);\n",
       "            "
      ],
      "text/plain": [
       "<IPython.core.display.Javascript object>"
      ]
     },
     "metadata": {},
     "output_type": "display_data"
    }
   ],
   "source": [
    "async def choose_a_tool(prompt, choices_enum: Enum) -> ToolKinds:\n",
    "    constraint = OptionsConstraint({e.value for e in choices_enum})\n",
    "    return choices_enum(\n",
    "        (await prompt.complete(model=llama_model, constraint=constraint)).completions[0]\n",
    "    )"
   ]
  },
  {
   "cell_type": "code",
   "execution_count": 18,
   "id": "f8acc6df",
   "metadata": {},
   "outputs": [
    {
     "name": "stderr",
     "output_type": "stream",
     "text": [
      "Llama.generate: prefix-match hit\n",
      "\n",
      "llama_print_timings:        load time = 10224.36 ms\n",
      "llama_print_timings:      sample time =     0.69 ms /     1 runs   (    0.69 ms per token,  1459.85 tokens per second)\n",
      "llama_print_timings: prompt eval time =     0.00 ms /     1 tokens (    0.00 ms per token,      inf tokens per second)\n",
      "llama_print_timings:        eval time =   839.66 ms /     1 runs   (  839.66 ms per token,     1.19 tokens per second)\n",
      "llama_print_timings:       total time =   845.45 ms\n"
     ]
    },
    {
     "data": {
      "application/javascript": [
       "\n",
       "            setTimeout(function() {\n",
       "                var nbb_cell_id = 18;\n",
       "                var nbb_unformatted_code = \"tool_choice: ToolKinds = await choose_a_tool(llama_prompt, ToolKinds)\";\n",
       "                var nbb_formatted_code = \"tool_choice: ToolKinds = await choose_a_tool(llama_prompt, ToolKinds)\";\n",
       "                var nbb_cells = Jupyter.notebook.get_cells();\n",
       "                for (var i = 0; i < nbb_cells.length; ++i) {\n",
       "                    if (nbb_cells[i].input_prompt_number == nbb_cell_id) {\n",
       "                        if (nbb_cells[i].get_text() == nbb_unformatted_code) {\n",
       "                             nbb_cells[i].set_text(nbb_formatted_code);\n",
       "                        }\n",
       "                        break;\n",
       "                    }\n",
       "                }\n",
       "            }, 500);\n",
       "            "
      ],
      "text/plain": [
       "<IPython.core.display.Javascript object>"
      ]
     },
     "metadata": {},
     "output_type": "display_data"
    }
   ],
   "source": [
    "tool_choice: ToolKinds = await choose_a_tool(llama_prompt, ToolKinds)"
   ]
  },
  {
   "cell_type": "code",
   "execution_count": 19,
   "id": "c1dac4ac",
   "metadata": {},
   "outputs": [
    {
     "data": {
      "text/plain": [
       "<ToolKinds.C: 'C'>"
      ]
     },
     "execution_count": 19,
     "metadata": {},
     "output_type": "execute_result"
    },
    {
     "data": {
      "application/javascript": [
       "\n",
       "            setTimeout(function() {\n",
       "                var nbb_cell_id = 19;\n",
       "                var nbb_unformatted_code = \"tool_choice\";\n",
       "                var nbb_formatted_code = \"tool_choice\";\n",
       "                var nbb_cells = Jupyter.notebook.get_cells();\n",
       "                for (var i = 0; i < nbb_cells.length; ++i) {\n",
       "                    if (nbb_cells[i].input_prompt_number == nbb_cell_id) {\n",
       "                        if (nbb_cells[i].get_text() == nbb_unformatted_code) {\n",
       "                             nbb_cells[i].set_text(nbb_formatted_code);\n",
       "                        }\n",
       "                        break;\n",
       "                    }\n",
       "                }\n",
       "            }, 500);\n",
       "            "
      ],
      "text/plain": [
       "<IPython.core.display.Javascript object>"
      ]
     },
     "metadata": {},
     "output_type": "display_data"
    }
   ],
   "source": [
    "tool_choice"
   ]
  },
  {
   "cell_type": "code",
   "execution_count": null,
   "id": "492145b6",
   "metadata": {},
   "outputs": [],
   "source": []
  }
 ],
 "metadata": {
  "kernelspec": {
   "display_name": "Python 3 (ipykernel)",
   "language": "python",
   "name": "python3"
  },
  "language_info": {
   "codemirror_mode": {
    "name": "ipython",
    "version": 3
   },
   "file_extension": ".py",
   "mimetype": "text/x-python",
   "name": "python",
   "nbconvert_exporter": "python",
   "pygments_lexer": "ipython3",
   "version": "3.10.9"
  }
 },
 "nbformat": 4,
 "nbformat_minor": 5
}
