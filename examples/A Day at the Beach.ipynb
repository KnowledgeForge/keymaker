{
 "cells": [
  {
   "cell_type": "code",
   "execution_count": 1,
   "id": "fe8cbb8a",
   "metadata": {
    "scrolled": true
   },
   "outputs": [
    {
     "data": {
      "application/javascript": [
       "\n",
       "            setTimeout(function() {\n",
       "                var nbb_cell_id = 1;\n",
       "                var nbb_unformatted_code = \"%load_ext nb_black\";\n",
       "                var nbb_formatted_code = \"%load_ext nb_black\";\n",
       "                var nbb_cells = Jupyter.notebook.get_cells();\n",
       "                for (var i = 0; i < nbb_cells.length; ++i) {\n",
       "                    if (nbb_cells[i].input_prompt_number == nbb_cell_id) {\n",
       "                        if (nbb_cells[i].get_text() == nbb_unformatted_code) {\n",
       "                             nbb_cells[i].set_text(nbb_formatted_code);\n",
       "                        }\n",
       "                        break;\n",
       "                    }\n",
       "                }\n",
       "            }, 500);\n",
       "            "
      ],
      "text/plain": [
       "<IPython.core.display.Javascript object>"
      ]
     },
     "metadata": {},
     "output_type": "display_data"
    }
   ],
   "source": [
    "%load_ext nb_black"
   ]
  },
  {
   "cell_type": "markdown",
   "id": "11331350",
   "metadata": {},
   "source": [
    "# Some things this notebook demonstrates:\n",
    "- huggingface usage\n",
    "  - w/ constrained completion\n",
    "- use of constraints\n",
    "  - options constraint\n",
    "  - dynamic constraining\n",
    "- control-flow\n",
    "  - a custom function that generates completions"
   ]
  },
  {
   "cell_type": "code",
   "execution_count": 2,
   "id": "405078cf",
   "metadata": {},
   "outputs": [
    {
     "data": {
      "application/javascript": [
       "\n",
       "            setTimeout(function() {\n",
       "                var nbb_cell_id = 2;\n",
       "                var nbb_unformatted_code = \"from enum import Enum\\nfrom keymaker.models import chatgpt, gpt4, LlamaCpp, Huggingface, OpenAICompletion\\nfrom keymaker.constraints import (\\n    RegexConstraint,\\n    AndConstraint,\\n    NotConstraint,\\n    OptionsConstraint,\\n)\\nfrom keymaker import Prompt, Completion\\nfrom typing import Set\";\n",
       "                var nbb_formatted_code = \"from enum import Enum\\nfrom keymaker.models import chatgpt, gpt4, LlamaCpp, Huggingface, OpenAICompletion\\nfrom keymaker.constraints import (\\n    RegexConstraint,\\n    AndConstraint,\\n    NotConstraint,\\n    OptionsConstraint,\\n)\\nfrom keymaker import Prompt, Completion\\nfrom typing import Set\";\n",
       "                var nbb_cells = Jupyter.notebook.get_cells();\n",
       "                for (var i = 0; i < nbb_cells.length; ++i) {\n",
       "                    if (nbb_cells[i].input_prompt_number == nbb_cell_id) {\n",
       "                        if (nbb_cells[i].get_text() == nbb_unformatted_code) {\n",
       "                             nbb_cells[i].set_text(nbb_formatted_code);\n",
       "                        }\n",
       "                        break;\n",
       "                    }\n",
       "                }\n",
       "            }, 500);\n",
       "            "
      ],
      "text/plain": [
       "<IPython.core.display.Javascript object>"
      ]
     },
     "metadata": {},
     "output_type": "display_data"
    }
   ],
   "source": [
    "from enum import Enum\n",
    "from keymaker.models import chatgpt, gpt4, LlamaCpp, Huggingface, OpenAICompletion\n",
    "from keymaker.constraints import (\n",
    "    RegexConstraint,\n",
    "    AndConstraint,\n",
    "    NotConstraint,\n",
    "    OptionsConstraint,\n",
    ")\n",
    "from keymaker import Prompt, Completion\n",
    "from typing import Set"
   ]
  },
  {
   "cell_type": "code",
   "execution_count": 3,
   "id": "09062c21",
   "metadata": {},
   "outputs": [
    {
     "data": {
      "application/javascript": [
       "\n",
       "            setTimeout(function() {\n",
       "                var nbb_cell_id = 3;\n",
       "                var nbb_unformatted_code = \"distilgpt2 = Huggingface(\\\"distilgpt2\\\")\";\n",
       "                var nbb_formatted_code = \"distilgpt2 = Huggingface(\\\"distilgpt2\\\")\";\n",
       "                var nbb_cells = Jupyter.notebook.get_cells();\n",
       "                for (var i = 0; i < nbb_cells.length; ++i) {\n",
       "                    if (nbb_cells[i].input_prompt_number == nbb_cell_id) {\n",
       "                        if (nbb_cells[i].get_text() == nbb_unformatted_code) {\n",
       "                             nbb_cells[i].set_text(nbb_formatted_code);\n",
       "                        }\n",
       "                        break;\n",
       "                    }\n",
       "                }\n",
       "            }, 500);\n",
       "            "
      ],
      "text/plain": [
       "<IPython.core.display.Javascript object>"
      ]
     },
     "metadata": {},
     "output_type": "display_data"
    }
   ],
   "source": [
    "distilgpt2 = Huggingface(\"distilgpt2\")"
   ]
  },
  {
   "cell_type": "code",
   "execution_count": 4,
   "id": "a52da998",
   "metadata": {},
   "outputs": [
    {
     "data": {
      "application/javascript": [
       "\n",
       "            setTimeout(function() {\n",
       "                var nbb_cell_id = 4;\n",
       "                var nbb_unformatted_code = \"async def unique_list(prompt: str, items: Set[str], n: int):\\n    used = set()\\n    for i in range(n):\\n        prompt += \\\"\\\\n    - \\\"\\n        prompt = await prompt.complete(\\n            distilgpt2, constraint=OptionsConstraint(items - used)\\n        )\\n        item = prompt.completions[-1]\\n        used.add(str(item))\\n        print(repr(item))\\n    return prompt\";\n",
       "                var nbb_formatted_code = \"async def unique_list(prompt: str, items: Set[str], n: int):\\n    used = set()\\n    for i in range(n):\\n        prompt += \\\"\\\\n    - \\\"\\n        prompt = await prompt.complete(\\n            distilgpt2, constraint=OptionsConstraint(items - used)\\n        )\\n        item = prompt.completions[-1]\\n        used.add(str(item))\\n        print(repr(item))\\n    return prompt\";\n",
       "                var nbb_cells = Jupyter.notebook.get_cells();\n",
       "                for (var i = 0; i < nbb_cells.length; ++i) {\n",
       "                    if (nbb_cells[i].input_prompt_number == nbb_cell_id) {\n",
       "                        if (nbb_cells[i].get_text() == nbb_unformatted_code) {\n",
       "                             nbb_cells[i].set_text(nbb_formatted_code);\n",
       "                        }\n",
       "                        break;\n",
       "                    }\n",
       "                }\n",
       "            }, 500);\n",
       "            "
      ],
      "text/plain": [
       "<IPython.core.display.Javascript object>"
      ]
     },
     "metadata": {},
     "output_type": "display_data"
    }
   ],
   "source": [
    "async def unique_list(prompt: str, items: Set[str], n: int):\n",
    "    used = set()\n",
    "    for i in range(n):\n",
    "        prompt += \"\\n    - \"\n",
    "        prompt = await prompt.complete(\n",
    "            distilgpt2, constraint=OptionsConstraint(items - used)\n",
    "        )\n",
    "        item = prompt.completions[-1]\n",
    "        used.add(str(item))\n",
    "        print(repr(item))\n",
    "    return prompt"
   ]
  },
  {
   "cell_type": "code",
   "execution_count": 5,
   "id": "9f9c16df",
   "metadata": {},
   "outputs": [
    {
     "data": {
      "application/javascript": [
       "\n",
       "            setTimeout(function() {\n",
       "                var nbb_cell_id = 5;\n",
       "                var nbb_unformatted_code = \"prompt = Prompt(\\\"A list of unique things not to forget for a day at the beach:\\\")\";\n",
       "                var nbb_formatted_code = \"prompt = Prompt(\\\"A list of unique things not to forget for a day at the beach:\\\")\";\n",
       "                var nbb_cells = Jupyter.notebook.get_cells();\n",
       "                for (var i = 0; i < nbb_cells.length; ++i) {\n",
       "                    if (nbb_cells[i].input_prompt_number == nbb_cell_id) {\n",
       "                        if (nbb_cells[i].get_text() == nbb_unformatted_code) {\n",
       "                             nbb_cells[i].set_text(nbb_formatted_code);\n",
       "                        }\n",
       "                        break;\n",
       "                    }\n",
       "                }\n",
       "            }, 500);\n",
       "            "
      ],
      "text/plain": [
       "<IPython.core.display.Javascript object>"
      ]
     },
     "metadata": {},
     "output_type": "display_data"
    }
   ],
   "source": [
    "prompt = Prompt(\"A list of unique things not to forget for a day at the beach:\")"
   ]
  },
  {
   "cell_type": "code",
   "execution_count": 6,
   "id": "40d2f169",
   "metadata": {},
   "outputs": [
    {
     "name": "stdout",
     "output_type": "stream",
     "text": [
      "Completion(text='Volleyball', start=68, stop=78, name=None, chunk=False, score=0.17896296083927155)\n",
      "Completion(text='Drinks', start=85, stop=91, name=None, chunk=False, score=0.20288145542144775)\n",
      "Completion(text='Cooler', start=98, stop=104, name=None, chunk=False, score=0.23851099610328677)\n"
     ]
    },
    {
     "data": {
      "application/javascript": [
       "\n",
       "            setTimeout(function() {\n",
       "                var nbb_cell_id = 6;\n",
       "                var nbb_unformatted_code = \"prompt = await unique_list(\\n    prompt,\\n    {\\\"Cooler\\\", \\\"Beach Chair\\\", \\\"Sunscreen\\\", \\\"Volleyball\\\", \\\"Suntan Lotion\\\", \\\"Drinks\\\"},\\n    3,\\n)\";\n",
       "                var nbb_formatted_code = \"prompt = await unique_list(\\n    prompt,\\n    {\\\"Cooler\\\", \\\"Beach Chair\\\", \\\"Sunscreen\\\", \\\"Volleyball\\\", \\\"Suntan Lotion\\\", \\\"Drinks\\\"},\\n    3,\\n)\";\n",
       "                var nbb_cells = Jupyter.notebook.get_cells();\n",
       "                for (var i = 0; i < nbb_cells.length; ++i) {\n",
       "                    if (nbb_cells[i].input_prompt_number == nbb_cell_id) {\n",
       "                        if (nbb_cells[i].get_text() == nbb_unformatted_code) {\n",
       "                             nbb_cells[i].set_text(nbb_formatted_code);\n",
       "                        }\n",
       "                        break;\n",
       "                    }\n",
       "                }\n",
       "            }, 500);\n",
       "            "
      ],
      "text/plain": [
       "<IPython.core.display.Javascript object>"
      ]
     },
     "metadata": {},
     "output_type": "display_data"
    }
   ],
   "source": [
    "prompt = await unique_list(\n",
    "    prompt,\n",
    "    {\"Cooler\", \"Beach Chair\", \"Sunscreen\", \"Volleyball\", \"Suntan Lotion\", \"Drinks\"},\n",
    "    3,\n",
    ")"
   ]
  },
  {
   "cell_type": "code",
   "execution_count": 7,
   "id": "8e127ede",
   "metadata": {},
   "outputs": [
    {
     "data": {
      "text/plain": [
       "Prompt('A list of unique things not to forget for a day at the beach:\n",
       "    - Volleyball\n",
       "    - Drinks\n",
       "    - Cooler')"
      ]
     },
     "execution_count": 7,
     "metadata": {},
     "output_type": "execute_result"
    },
    {
     "data": {
      "application/javascript": [
       "\n",
       "            setTimeout(function() {\n",
       "                var nbb_cell_id = 7;\n",
       "                var nbb_unformatted_code = \"prompt\";\n",
       "                var nbb_formatted_code = \"prompt\";\n",
       "                var nbb_cells = Jupyter.notebook.get_cells();\n",
       "                for (var i = 0; i < nbb_cells.length; ++i) {\n",
       "                    if (nbb_cells[i].input_prompt_number == nbb_cell_id) {\n",
       "                        if (nbb_cells[i].get_text() == nbb_unformatted_code) {\n",
       "                             nbb_cells[i].set_text(nbb_formatted_code);\n",
       "                        }\n",
       "                        break;\n",
       "                    }\n",
       "                }\n",
       "            }, 500);\n",
       "            "
      ],
      "text/plain": [
       "<IPython.core.display.Javascript object>"
      ]
     },
     "metadata": {},
     "output_type": "display_data"
    }
   ],
   "source": [
    "prompt"
   ]
  },
  {
   "cell_type": "code",
   "execution_count": null,
   "id": "b05208f6",
   "metadata": {},
   "outputs": [],
   "source": []
  }
 ],
 "metadata": {
  "kernelspec": {
   "display_name": "Python 3 (ipykernel)",
   "language": "python",
   "name": "python3"
  },
  "language_info": {
   "codemirror_mode": {
    "name": "ipython",
    "version": 3
   },
   "file_extension": ".py",
   "mimetype": "text/x-python",
   "name": "python",
   "nbconvert_exporter": "python",
   "pygments_lexer": "ipython3",
   "version": "3.10.9"
  }
 },
 "nbformat": 4,
 "nbformat_minor": 5
}
